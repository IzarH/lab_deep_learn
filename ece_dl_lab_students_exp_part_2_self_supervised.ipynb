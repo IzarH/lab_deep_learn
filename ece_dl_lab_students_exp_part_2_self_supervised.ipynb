{
 "cells": [
  {
   "cell_type": "markdown",
   "metadata": {
    "slideshow": {
     "slide_type": "slide"
    }
   },
   "source": [
    "# <img src=\"./assets/icons/nn.png\" style=\"height:50px;display:inline\"> ECE 045107 - Technion - Deep Learning Lab\n",
    "---\n",
    "\n",
    "#### Written by <a href=\"https://taldatech.github.io\">Tal Daniel</a>\n",
    "\n",
    "## <img src=\"./assets/icons/lab.png\" style=\"height:50px;display:inline\"> Lab Part 2 - Self-Supervised & Representation Learning\n",
    "---"
   ]
  },
  {
   "cell_type": "markdown",
   "metadata": {},
   "source": [
    "## <img src=\"./assets/icons/experiment.png\" style=\"height:50px;display:inline\"> Experiment\n",
    "---"
   ]
  },
  {
   "cell_type": "markdown",
   "metadata": {
    "id": "vZZybn3NpGhh"
   },
   "source": [
    "### <img src=\"./assets/icons/information.png\" style=\"height:50px;display:inline\"> Students Information\n",
    "---\n",
    "* Fill in\n",
    "\n",
    "|Name     |Campus Email| ID  |\n",
    "|---------|--------------------------------|----------|\n",
    "|Aviv Shem-Tov| avivst@campus.technion.ac.il| 205873987|\n",
    "|Izar Hasson | izar_hasson1@campus.technion.ac.il| 318739240|\n"
   ]
  },
  {
   "cell_type": "markdown",
   "metadata": {
    "id": "bq2c8X93pGhh"
   },
   "source": [
    "### <img src=\"./assets/icons/keyboard.png\" style=\"height:50px;display:inline\"> Keyboard Shortcuts\n",
    "---\n",
    "* Run current cell: **Ctrl + Enter**\n",
    "* Run current cell and move to the next: **Shift + Enter**\n",
    "* Show lines in a code cell: **Esc + L**\n",
    "* View function documentation: **Shift + Tab** inside the parenthesis or `help(name_of_module)`\n",
    "* New cell below: **Esc + B**\n",
    "* Delete cell: **Esc + D, D** (two D's)"
   ]
  },
  {
   "cell_type": "markdown",
   "metadata": {
    "id": "dDK5zqhdpGhi"
   },
   "source": [
    "### <img src=\"./assets/icons/upload-to-cloud.png\" style=\"height:50px;display:inline\"> Submission Guidelines\n",
    "---\n",
    "* Maximal garde: 100.\n",
    "* Submission only in **pairs**. \n",
    "* **No handwritten submissions.** You can choose whether to answer in a Markdown cell in this notebook or attach a PDF with your answers.\n",
    "* <a style='color:red'> SAVE THE NOTEBOOKS WITH THE OUTPUT, CODE CELLS THAT WERE NOT RUN WILL NOT GET ANY POINTS! </a>\n",
    "* What you have to submit:\n",
    "    * If you have answered the questions in the notebook, you should submit this file only, with the name: `045107_dl_lab_ssl_exp_id1_id2.ipynb`.\n",
    "    * If you answered the questionss in a different file you should submit a `.zip` file with the name `045107_dl_lab_ssl_exp_id1_id2.zip` with content:\n",
    "        * `045107_dl_lab_ssl_exp_id1_id2.ipynb` - the code tasks\n",
    "        * `045107_dl_lab_ssl_exp_id1_id2.pdf` - answers to questions.\n",
    "    * No other file-types (`.py`, `.docx`...) will be accepted.\n",
    "* **Latex in Colab** - in some cases, Latex equations may no be rendered. To avoid this, make sure to not use *bullets* in your answers (\"* some text here with Latex equations\" -> \"some text here with Latex equations\")."
   ]
  },
  {
   "cell_type": "markdown",
   "metadata": {
    "id": "pmSj_UufpGhi"
   },
   "source": [
    "### <img src=\"./assets/icons/online.png\" style=\"height:50px;display:inline\"> Working Online and Locally\n",
    "---\n",
    "* You can choose your working environment:\n",
    "    1. `Jupyter Notebook`, **locally** with <a href=\"https://www.anaconda.com/download\">Anaconda</a> or **online** on <a href=\"https://colab.research.google.com/\">Google Colab</a>\n",
    "        * Colab also supports running code on GPU, so if you don't have one, Colab is the way to go. To enable GPU on Colab, in the menu: `Runtime`$\\rightarrow$ `Change Runtime Type` $\\rightarrow$`GPU`.\n",
    "    2. Python IDE such as <a href=\"https://www.jetbrains.com/pycharm/\">PyCharm</a> or <a href=\"https://code.visualstudio.com/\">Visual Studio Code</a>.\n",
    "        * Both allow editing and running Jupyter Notebooks."
   ]
  },
  {
   "cell_type": "markdown",
   "metadata": {},
   "source": [
    "* You can choose whether to answser these straight in the notebook (Markdown + Latex) or use another editor (Word, LyX, Latex, Overleaf...) and submit an additional PDF file, **but no handwritten submissions**.\n",
    "* You can attach additional figures (drawings, graphs,...) in a separate PDF file, just make sure to refer to them in your answers.\n",
    "\n",
    "* $\\large\\LaTeX$ <a href=\"https://kapeli.com/cheat_sheets/LaTeX_Math_Symbols.docset/Contents/Resources/Documents/index\">Cheat-Sheet</a> (to write equations)\n",
    "    * <a href=\"http://tug.ctan.org/info/latex-refsheet/LaTeX_RefSheet.pdf\">Another Cheat-Sheet</a>"
   ]
  },
  {
   "cell_type": "markdown",
   "metadata": {
    "slideshow": {
     "slide_type": "subslide"
    }
   },
   "source": [
    "### <img src=\"./assets/icons/checklist.png\" style=\"height:50px;display:inline\"> Agenda\n",
    "---\n",
    "* [Task 1 - Loading the Data and Applying Data Augmentations](#-Task-1---Loading-the-Data-and-Applying-Data-Augmentations)\n",
    "* [Task 2 - Momentum Network - Exponential Moving Average](#-Task-2---Momentum-Network----Exponential-Moving-Average)\n",
    "* [Task 3 - Building the BYOL Model](#-Task-3---Building-the-BYOL-Model)\n",
    "* [Task 4 - Loss Functions and Hyper-parameters](#-Task-4---Loss-Functions-and-Hyper-parameters)\n",
    "* [Task 5 - Training the Model](#-Task-5---Training-the-Model)\n",
    "* [Task 6 - Probing the Model](#-Task-6---Probing-the-Model)\n",
    "* [Task 7 - Using the Model for Linear Classification](#-Task-7---Using-the-Model-for-Linear-Classification)\n",
    "* [Credits](#-Credits)"
   ]
  },
  {
   "cell_type": "code",
   "execution_count": 1,
   "metadata": {
    "slideshow": {
     "slide_type": "skip"
    }
   },
   "outputs": [],
   "source": [
    "# imports for the lab\n",
    "import numpy as np\n",
    "import matplotlib.pyplot as plt\n",
    "import time\n",
    "import os\n",
    "import copy\n",
    "from helper_functions import *\n",
    "from tqdm import tqdm\n",
    "# pytorch imports\n",
    "import torch\n",
    "import torch.nn as nn\n",
    "import torch.nn.functional as F\n",
    "from torch.utils.data import DataLoader, Dataset\n",
    "from torchvision import models\n",
    "import torchvision.transforms as T\n",
    "from torchvision.transforms import functional as TF\n",
    "import torchvision\n",
    "from torch.nn.functional import cosine_similarity\n",
    "\n",
    "# scikit-learn imports\n",
    "from sklearn.manifold import TSNE\n",
    "from sklearn.linear_model import LogisticRegression\n",
    "from sklearn.preprocessing import StandardScaler\n",
    "from sklearn.metrics import accuracy_score"
   ]
  },
  {
   "cell_type": "markdown",
   "metadata": {},
   "source": [
    "**Experiment Code Tasks**: complete the missing code lines marked with `# TODO`.\n",
    "\n",
    "**Experiment Questions**: in the final report, you need to answer questions and provide figures.\n",
    "\n",
    "Questions that are marked with a **bold** font, can be answered during models training so you can asnwer them later. \n",
    "\n",
    "Questions that are marked with an *italic* font, should be answered before models training as they are required for your understanding. \n",
    "\n",
    "**TO SAVE TIME, ANSWER THE QUESTIONS DURING MODEL TRAINING** (not before)."
   ]
  },
  {
   "cell_type": "markdown",
   "metadata": {},
   "source": [
    "## <img src=\"./assets/icons/code.png\" style=\"height:50px;display:inline\"> Task 1 - Loading the Data and Applying Data Augmentations\n",
    "---\n",
    "1. In this section of the lab we are going to work with the <a href=\"https://cs.stanford.edu/~acoates/stl10/\">**STL-10**</a> dataset which is available to download and load with <a href=\"https://pytorch.org/vision/stable/generated/torchvision.datasets.STL10.html#torchvision.datasets.STL10\">`torchvision.datasets.STL10`</a>. The dataset includes $96\\times 96$ RGB images from 10 classes (very similar to CIFAR-10) where there are 500 training images and 800 test images per class, and **100,000 unlabeled images**.\n",
    "    * **Question 1.1**: Why can we assume that supervised learning of a deep (convolutional) neural network would not result in a good performance (i.e., high accuracy) on the STL-10 dataset? Why is it a good fit for self-supervised learning?\n",
    "2. For self-supervised learning, we need to create poistive pairs. The common paradigm for image representation learning with self-supervised learning is using augmented views of the same image as positive pairs.\n",
    "    * **Question 1.2**: Briefly explain the following <a href=\"https://pytorch.org/vision/stable/transforms.html\">`torchvision` transformations</a>: `RandomCrop`, `ColorJitter`, `RandomGrayscale`, `RandomHorizontalFlip`, `RandomPerspective`, `RandomRotation`, `RandomInvert`.\n",
    "    * **Question 1.3**: For the **STL-10**, which of the above augmentations are \"safe\" to apply without changing the image label? \n",
    "3. To intergrate augementations in our dataset, there are usually 3 approaches:\n",
    "    * Modifying the `Dataset` class such that `__getitem__(self, index)` returns 2 augmented views of the same image. The adavantage of this approach is that it usually simpler and most `torchvision` datasets support it via the `transforms` parameter input.\n",
    "    * Implementing \"Collate Function\" - `collate_fn` that implements the augmentations and is passed directly to the `DataLoader` class (instead of inside the `Dataset` class). The advantage of this approach is that it is dataset-agnostic and does not require modifying the `Dataset` class.\n",
    "    * Applying augementations directly on the tensor batch using libaries like <a href=\"https://kornia.github.io\">`kornia`</a> inside the training loop. The advantage of this approach is that augmentations can be performed directly on the GPU, making the process much faster, and making the augmentation process differentiable in some cases (i.e., `loss.backwards()` will propagate gradients throguh the augmentation function).\n",
    "    \n",
    "    Here, we will use the second approch - implementing a collate function. Inspect and explain what `ImageCollateFunction` is doing. Load the training data (unlabeled + training data) of the **STL-10** dataset with at least 3 image augmenations of your choosing and display 5 images from the dataset (with the augmentations applied).\n",
    "4. Create a `DataLoader` for the `Dataset` from the previous section. If you are using a GPU-powered machine, use `num_workers` $>1$ to speed-up the data transfer to the GPU. Set `shuffle=True` and briefly explain why.\n",
    "    * *Question 1.4*: Pick the `batch_size`, explain what are the considerations for tuning this hyper-parameter in self-supervised learning.\n",
    "    * *Question 1.5*: What are the contents of each batch? To get an examplary batch use `batch = next(iter(dataloader))`.\n",
    "5. Plot 5 images from the loaded data with `matplotlib`."
   ]
  },
  {
   "cell_type": "markdown",
   "metadata": {},
   "source": [
    "### Note: it takes a while to download the STL-10 data, need to make sure the data is on the disk before the experiment."
   ]
  },
  {
   "cell_type": "code",
   "execution_count": 2,
   "metadata": {},
   "outputs": [
    {
     "name": "stdout",
     "output_type": "stream",
     "text": [
      "Files already downloaded and verified\n"
     ]
    }
   ],
   "source": [
    "# download/load the data, create a dataloader\n",
    "stl10 = torchvision.datasets.STL10(\"./datasets/stl10\", download=True, split=\"train+unlabeled\")\n",
    "# splits: One of {‘train’, ‘test’, ‘unlabeled’, ‘train+unlabeled’}. Accordingly dataset is selected.\n",
    "\n",
    "# stl-10 includes 96x96 resolution iamges, to save time, we will work with 64x64\n",
    "# the collate function includes all of the image AUGMENTATIONS, take a look in helper_functions.py\n",
    "image_size = 64\n",
    "collate_fn = ImageCollateFunction(input_size=image_size)  # input_size = image_size\n",
    "\n",
    "# lets' load the data, we will work with batch_size=256 throughout this lab\n",
    "dataloader = DataLoader(\n",
    "    stl10,\n",
    "    batch_size=256,\n",
    "    collate_fn=collate_fn,\n",
    "    shuffle=True,\n",
    "    drop_last=True,\n",
    "    num_workers=4,\n",
    ")"
   ]
  },
  {
   "cell_type": "code",
   "execution_count": 3,
   "metadata": {},
   "outputs": [],
   "source": [
    "# get a batch\n",
    "batch = next(iter(dataloader))"
   ]
  },
  {
   "cell_type": "code",
   "execution_count": 4,
   "metadata": {},
   "outputs": [
    {
     "name": "stdout",
     "output_type": "stream",
     "text": [
      "2\n",
      "256 256\n",
      "256\n",
      "torch.Size([256, 3, 64, 64])\n",
      "torch.Size([256, 3, 64, 64])\n",
      "torch.Size([256])\n",
      "tensor([-1, -1, -1, -1, -1])\n"
     ]
    }
   ],
   "source": [
    "# observe the batch contents\n",
    "print(len(batch))\n",
    "print(len(batch[0][0]), len(batch[0][1]))\n",
    "print(len(batch[1]))\n",
    "# let's look at the content\n",
    "print(batch[0][0].shape)\n",
    "print(batch[0][1].shape)\n",
    "print(batch[1].shape)\n",
    "# labels\n",
    "print(batch[1][:5])"
   ]
  },
  {
   "cell_type": "code",
   "execution_count": 34,
   "metadata": {},
   "outputs": [
    {
     "data": {
      "image/png": "[encoded data removed]",
      "text/plain": [
       "<Figure size 640x480 with 1 Axes>"
      ]
     },
     "metadata": {},
     "output_type": "display_data"
    }
   ],
   "source": [
    "# plot images\n",
    "def to_rgb(x, mean=[0.485, 0.456, 0.406], std=[0.229, 0.224, 0.225]):\n",
    "    # imagenet normalized image -> rgb\n",
    "    mean = torch.tensor(mean, device=x.device)[None, :, None, None]  # shape: [1, 3, 1, 1]\n",
    "    std = torch.tensor(std, device=x.device)[None, :, None, None]  # shape: [1, 3, 1, 1]\n",
    "    return (x * std) + mean\n",
    "\n",
    "images = to_rgb(batch[0][0])\n",
    "\n",
    "# TODO: plot 5 images with matplotlib\n",
    "images_to_plot = images.permute(0,2,3,1).data.cpu().numpy()[0:5]\n",
    "for image in images_to_plot:\n",
    "    plt.figure()\n",
    "    plt.imshow(image)\n",
    "# plt.imshow(images.permute(0,2,3,1).data.cpu().numpy()[0:5])"
   ]
  },
  {
   "cell_type": "markdown",
   "metadata": {},
   "source": [
    "## <img src=\"./assets/icons/code.png\" style=\"height:50px;display:inline\"> Task 2 - Momentum Network -  Exponential Moving Average\n",
    "---\n",
    "A recent trend in deep learning is using a momentum network to stabilize the training process and improve the final performance of the model. The momentum network has the exact architecture of the original model, but its gradients are turned off and its parameters are updated with exponential moving average (EMA).\n",
    "\n",
    "1. Create a simple dummy 2-layer MLP `mlp`. You are free to choose the number of hidden units and the activations. You will only use this network to test specific functions, and you are not going to train it.\n",
    "2. Create the momentum version `momentum_mlp` by using `copy.deepcopy()` to copy `mlp`, and turn off its gradients.\n",
    "3. Implement a function `momentum_update(momentum_params, new_params, m=0.999)` the updates the momentum network parameters according to the EMA update rule. Validate that it works by using `mlp` and `momentum_mlp` by observing the weights before and after the updates (no need to print all of the weights, you can pick one layer). We also re-initailzie the weights of `mlp` after the `copy.deepcopy()` line to ensure `mlp` has different weight values, to observe the effect of the update.\n",
    "    * To perform the update, you need to directly assign the field `param.data` with the new value.\n",
    "    * Decorate the function with `@torch.no_grad()` to make sure gradients are not recorded.\n",
    "    * **Question 2.1**: What is the role of `m`?"
   ]
  },
  {
   "cell_type": "code",
   "execution_count": 6,
   "metadata": {},
   "outputs": [],
   "source": [
    "mlp = nn.Sequential(\n",
    "    nn.Linear(4096,100),\n",
    "    nn.LeakyReLU(),\n",
    "    nn.Linear(100,10)\n",
    ")\n",
    "\n",
    "momentum_mlp = copy.deepcopy(mlp)\n",
    "momentum_mlp.requires_grad_(False)\n",
    "# re-initailize the mlp to ensure it has different weights\n",
    "for m in mlp:\n",
    "    if isinstance(m, nn.Linear):\n",
    "        m.reset_parameters()"
   ]
  },
  {
   "cell_type": "code",
   "execution_count": 7,
   "metadata": {},
   "outputs": [],
   "source": [
    "# implement the momentum update function\n",
    "# momentum_param = m * momentum_param + (1 - m) * param\n",
    "@torch.no_grad()\n",
    "def momentum_update(momentum_params, new_params, m=0.999):\n",
    "    \"\"\"Updates the weights of the previous parameters.\n",
    "    \"\"\"\n",
    "    for momentum_param, param in zip(momentum_params, new_params):\n",
    "        momentum_param.data = m * momentum_param.data + (1. - m) * param.data"
   ]
  },
  {
   "cell_type": "code",
   "execution_count": 8,
   "metadata": {},
   "outputs": [
    {
     "name": "stdout",
     "output_type": "stream",
     "text": [
      "before momentum update:\n",
      "tensor([ 0.0125,  0.0103,  0.0095,  ..., -0.0104,  0.0058, -0.0075])\n",
      "---------------\n",
      "after momentum update:\n",
      "tensor([ 0.0124,  0.0102,  0.0095,  ..., -0.0102,  0.0056, -0.0075])\n"
     ]
    }
   ],
   "source": [
    "# check the function\n",
    "print(f'before momentum update:')\n",
    "print(momentum_mlp[0].weight.data[0])\n",
    "print(f'---------------')\n",
    "momentum_update(momentum_mlp.parameters(), mlp.parameters(), m=0.99)\n",
    "print(f'after momentum update:')\n",
    "print(momentum_mlp[0].weight.data[0])"
   ]
  },
  {
   "cell_type": "markdown",
   "metadata": {},
   "source": [
    "## <img src=\"./assets/icons/code.png\" style=\"height:50px;display:inline\"> Task 3 - Building the BYOL Model\n",
    "---\n",
    "\n",
    "* In the following task we are going to implement the BYOL model.\n",
    "* We will use the `ResNet18` architecture as our backbone to process images with a CNN.\n",
    "* The projection and prediction networks are going to have the same MLP architecture: `Linear, BatchNorm, ReLU, Linear`, where the `BatchNorm` will be optional (in PyTorch, layers can be replaced with `nn.Identity()` to do nothing to the input).\n",
    "* Complete the lines marked with `# TODO`.\n",
    "* **Question 3.1**: Why is the `forward()` (not `_forward()`) function of our model accepts two inputs `x0` and `x1`?"
   ]
  },
  {
   "cell_type": "code",
   "execution_count": 9,
   "metadata": {},
   "outputs": [],
   "source": [
    "# complete the functions and model\n",
    "def _get_byol_mlp(num_ftrs: int, hidden_dim: int, out_dim: int, batch_norm: bool):\n",
    "    \"\"\"Returns a 2-layer MLP with batch norm on the hidden layer.\n",
    "    Reference (12.03.2021)\n",
    "    https://arxiv.org/abs/2006.07733\n",
    "    \"\"\"\n",
    "    modules = [\n",
    "        nn.Linear(num_ftrs, hidden_dim),\n",
    "        nn.BatchNorm1d(hidden_dim) if batch_norm else nn.Identity(),\n",
    "        nn.ReLU(),\n",
    "        nn.Linear(hidden_dim, out_dim),\n",
    "    ]\n",
    "    return nn.Sequential(*modules)\n",
    "\n",
    "\n",
    "class BYOL(nn.Module):\n",
    "    \"\"\"Implementation of the BYOL architecture.\n",
    "    Attributes:\n",
    "        backbone:\n",
    "            Backbone model to extract features from images.\n",
    "        num_ftrs:\n",
    "            Dimension of the embedding (before the projection mlp).\n",
    "        hidden_dim:\n",
    "            Dimension of the hidden layer in the projection and prediction mlp.\n",
    "        out_dim:\n",
    "            Dimension of the output (after the projection/prediction mlp).\n",
    "        m:\n",
    "            Momentum for the momentum update of encoder.\n",
    "        batch_norm:\n",
    "            flag to use batch normalization in the architecture\n",
    "    \"\"\"\n",
    "\n",
    "    def __init__(\n",
    "        self,\n",
    "        backbone: nn.Module,\n",
    "        num_ftrs: int = 2048,\n",
    "        hidden_dim: int = 4096,\n",
    "        out_dim: int = 256,\n",
    "        batch_norm: bool = True\n",
    "    ):\n",
    "\n",
    "        super(BYOL, self).__init__()\n",
    "\n",
    "        self.backbone = backbone\n",
    "        # the architecture of the projection and prediction head is the same\n",
    "        # use _get_byol_mlp() to implement the projection and prediction heads - read the doc above\n",
    "        self.projection_head = _get_byol_mlp(num_ftrs, hidden_dim, out_dim, batch_norm)\n",
    "        self.prediction_head = _get_byol_mlp(out_dim, hidden_dim, out_dim, batch_norm)\n",
    "        self.momentum_backbone = None\n",
    "        self.momentum_projection_head = None\n",
    "        self.relu = nn.ReLU()\n",
    "        self._init_momentum_encoder()\n",
    "\n",
    "        \n",
    "    def _init_momentum_encoder(self):\n",
    "        \"\"\"Initializes momentum backbone and a momentum projection head.\n",
    "        \"\"\"\n",
    "        assert self.backbone is not None\n",
    "        assert self.projection_head is not None\n",
    "\n",
    "        self.momentum_backbone = copy.deepcopy(self.backbone)\n",
    "        self.momentum_projection_head = copy.deepcopy(self.projection_head)\n",
    "\n",
    "        self.momentum_backbone.requires_grad_(False)\n",
    "        self.momentum_projection_head.requires_grad_(False)\n",
    "\n",
    "    def _forward(self, x0: torch.Tensor, x1: torch.Tensor = None):\n",
    "        \"\"\"Forward pass through the encoder and the momentum encoder.\n",
    "        Performs the momentum update, extracts features with the backbone and\n",
    "        applies the projection (and prediciton) head to the output space. If\n",
    "        x1 is None, only x0 will be processed otherwise, x0 is processed with\n",
    "        the encoder and x1 with the momentum encoder.\n",
    "        Args:\n",
    "            x0:\n",
    "                Tensor of shape bsz x channels x W x H.\n",
    "            x1:\n",
    "                Tensor of shape bsz x channels x W x H.\n",
    "        Returns:\n",
    "            The output proejction of x0 and (if x1 is not None) the output\n",
    "            projection of x1.\n",
    "        Examples:\n",
    "            >>> # single input, single output\n",
    "            >>> out = model._forward(x)\n",
    "            >>>\n",
    "            >>> # two inputs, two outputs\n",
    "            >>> out0, out1 = model._forward(x0, x1)\n",
    "        \"\"\"\n",
    "\n",
    "        # forward pass of first input x0\n",
    "        f0 = self.backbone(x0).flatten(start_dim=1)\n",
    "        z0 = self.projection_head(f0)\n",
    "        out0 = self.prediction_head(z0)\n",
    "\n",
    "        if x1 is None:\n",
    "            return out0\n",
    "\n",
    "        # forward pass of second input x1\n",
    "        with torch.no_grad():\n",
    "\n",
    "            f1 = self.momentum_backbone(x1).flatten(start_dim=1)\n",
    "            out1 = self.momentum_projection_head(f1)\n",
    "\n",
    "        return out0, out1\n",
    "\n",
    "    def forward(\n",
    "        self, x0: torch.Tensor, x1: torch.Tensor\n",
    "    ):\n",
    "        \"\"\"Symmetrizes the forward pass (see _forward).\n",
    "        Performs two forward passes, once where x0 is passed through the encoder\n",
    "        and x1 through the momentum encoder and once the other way around.\n",
    "        Note that this model currently requires two inputs for the forward pass\n",
    "        (x0 and x1).\n",
    "        Args:\n",
    "            x0:\n",
    "                Tensor of shape bsz x channels x W x H.\n",
    "            x1:\n",
    "                Tensor of shape bsz x channels x W x H.\n",
    "        Returns:\n",
    "            A tuple out0, out1, where out0 and out1 are tuples containing the\n",
    "            predictions and projections of x0 and x1: out0 = (z0, p0) and\n",
    "            out1 = (z1, p1).\n",
    "        \"\"\"\n",
    "\n",
    "        if x0 is None:\n",
    "            raise ValueError(\"x0 must not be None!\")\n",
    "        if x1 is None:\n",
    "            raise ValueError(\"x1 must not be None!\")\n",
    "\n",
    "        if not all([s0 == s1 for s0, s1 in zip(x0.shape, x1.shape)]):\n",
    "            raise ValueError(\n",
    "                f\"x0 and x1 must have same shape but got shapes {x0.shape} and {x1.shape}!\"\n",
    "            )\n",
    "\n",
    "        p0, z1 = self._forward(x0, x1)\n",
    "        p1, z0 = self._forward(x1, x0)\n",
    "\n",
    "        return (z0, p0), (z1, p1)"
   ]
  },
  {
   "cell_type": "markdown",
   "metadata": {},
   "source": [
    "## <img src=\"./assets/icons/code.png\" style=\"height:50px;display:inline\"> Task 4 - Loss Functions and Hyper-parameters\n",
    "---\n",
    "* Define the hyper-parameters of the model. Note that self-supervised learning usually require a lot of epochs ($>800$), but since we have limited time, we will train for a maximal number of $120$ epochs."
   ]
  },
  {
   "cell_type": "code",
   "execution_count": 10,
   "metadata": {},
   "outputs": [],
   "source": [
    "class NegativeCosineSimilarity(torch.nn.Module):\n",
    "    \"\"\"Implementation of the Negative Cosine Simililarity used in the SimSiam[0] paper.\n",
    "    [0] SimSiam, 2020, https://arxiv.org/abs/2011.10566\n",
    "    Examples:\n",
    "        >>> # initialize loss function\n",
    "        >>> loss_fn = NegativeCosineSimilarity()\n",
    "        >>>\n",
    "        >>> # generate two representation tensors\n",
    "        >>> # with batch size 10 and dimension 128\n",
    "        >>> x0 = torch.randn(10, 128)\n",
    "        >>> x1 = torch.randn(10, 128)\n",
    "        >>>\n",
    "        >>> # calculate loss\n",
    "        >>> loss = loss_fn(x0, x1)\n",
    "    \"\"\"\n",
    "\n",
    "    def __init__(self, dim: int = 1, eps: float = 1e-8) -> None:\n",
    "        \"\"\"Same parameters as in torch.nn.CosineSimilarity\n",
    "        Args:\n",
    "            dim (int, optional):\n",
    "                Dimension where cosine similarity is computed. Default: 1\n",
    "            eps (float, optional):\n",
    "                Small value to avoid division by zero. Default: 1e-8\n",
    "        \"\"\"\n",
    "        super().__init__()\n",
    "        self.dim = dim\n",
    "        self.eps = eps\n",
    "\n",
    "    def forward(self, x0: torch.Tensor, x1: torch.Tensor) -> torch.Tensor:\n",
    "        return - cosine_similarity(x0, x1, self.dim, self.eps).mean() # TODO, use cosine_similarity() to implement the return value. use `.mean()` to return the batch mean"
   ]
  },
  {
   "cell_type": "code",
   "execution_count": 11,
   "metadata": {},
   "outputs": [],
   "source": [
    "# pick hyper-paramteres\n",
    "lr = 3e-4 # TODO, values should be in [1e-4, 1e-4]\n",
    "criterion = NegativeCosineSimilarity()\n",
    "device = torch.device(\"cuda:0\" if torch.cuda.is_available() else \"cpu\")\n",
    "epochs = 100\n",
    "hidden_dim = 2048\n",
    "out_dim = 256\n",
    "m = 0.9 # TODO, `m` is the momentum value\n",
    "use_pretrianed = False  # flag to load pre-trained ImageNet backbone weights, will use later\n",
    "run_name = f'byol_cosine_pretrained_{use_pretrianed}'"
   ]
  },
  {
   "cell_type": "markdown",
   "metadata": {},
   "source": [
    "## <img src=\"./assets/icons/code.png\" style=\"height:50px;display:inline\"> Task 5 - Training the Model\n",
    "---\n",
    "* Train with Negative Cosine Similarity as the loss function and **save** the model for $120$ epochs.\n",
    "    * **Question 5.1**: Why are we optimizing the *negative* cosine similarity and not the positive?\n",
    "* Train a second model **with pre-trained ImageNet weights for the backbone** for $40$ epochs. **Make sure to change `run_name` to something else so your model will no be overwritten**. You should have 2 models checkpoints saved.\n",
    "    * Note the ImageNet is a different dataset than STL-10, so this why we still need to re-traine the network.\n",
    "    * **Question 5.2**: Why can we assume that we can train for less epochs when we use a pre-trained backbone? What other hyper-parameter we should consider when using a pre-trained backbone? (Hint: think about fine-tuning).\n",
    "    * This is similar to fine-tuning, but with a self-supervised objective.\n",
    "    * Hyper-parameters for this training should be picked again."
   ]
  },
  {
   "cell_type": "code",
   "execution_count": 12,
   "metadata": {},
   "outputs": [],
   "source": [
    "def save_checkpoint(model, optimizer, epoch=None, save_dir='./'):\n",
    "    data = {\n",
    "        'epoch': epoch,\n",
    "        'model': model.state_dict(),\n",
    "        'opt': optimizer.state_dict()\n",
    "    }\n",
    "\n",
    "    torch.save(data, os.path.join(save_dir, 'model.pth'))\n",
    "\n",
    "def load_from_checkpoint(model, optimizer, device, save_dir='./'):\n",
    "    # model_path = str(save_dir / f'model.pth')\n",
    "    model_path = os.path.join(save_dir, 'model.pth')\n",
    "    if not os.path.exists(model_path):\n",
    "        print(f'model checkpoint not found, training from scratch')\n",
    "        return 0\n",
    "    data = torch.load(model_path, map_location=device)\n",
    "    model.load_state_dict(data['model'])\n",
    "    epoch = data['epoch']\n",
    "    optimizer.load_state_dict(data['opt'])\n",
    "    print(f'loaded model from checkpoint, resuming training from epoch {epoch}')\n",
    "    return epoch"
   ]
  },
  {
   "cell_type": "markdown",
   "metadata": {},
   "source": [
    "### BYOL - Training from Scratch\n",
    "---"
   ]
  },
  {
   "cell_type": "code",
   "execution_count": 13,
   "metadata": {},
   "outputs": [
    {
     "name": "stdout",
     "output_type": "stream",
     "text": [
      "output features from backbone: 512\n"
     ]
    },
    {
     "name": "stderr",
     "output_type": "stream",
     "text": [
      "/home/dl_exp/Desktop/Deep Learning experiment/Meeting 2/.venv/lib/python3.11/site-packages/torch/optim/lr_scheduler.py:28: UserWarning: The verbose parameter is deprecated. Please use get_last_lr() to access the learning rate.\n",
      "  warnings.warn(\"The verbose parameter is deprecated. Please use get_last_lr() \"\n"
     ]
    },
    {
     "name": "stdout",
     "output_type": "stream",
     "text": [
      "model checkpoint not found, training from scratch\n",
      "Starting Training\n"
     ]
    },
    {
     "name": "stderr",
     "output_type": "stream",
     "text": [
      "epoch #0: 100%|██████████| 410/410 [00:45<00:00,  9.00it/s, loss=-0.732]\n"
     ]
    },
    {
     "name": "stdout",
     "output_type": "stream",
     "text": [
      "epoch: 0, loss: -0.75240\n"
     ]
    },
    {
     "name": "stderr",
     "output_type": "stream",
     "text": [
      "epoch #1: 100%|██████████| 410/410 [00:45<00:00,  9.08it/s, loss=-0.856]\n"
     ]
    },
    {
     "name": "stdout",
     "output_type": "stream",
     "text": [
      "epoch: 1, loss: -0.83862\n"
     ]
    },
    {
     "name": "stderr",
     "output_type": "stream",
     "text": [
      "epoch #2: 100%|██████████| 410/410 [00:45<00:00,  9.09it/s, loss=-0.879]\n"
     ]
    },
    {
     "name": "stdout",
     "output_type": "stream",
     "text": [
      "epoch: 2, loss: -0.86838\n"
     ]
    },
    {
     "name": "stderr",
     "output_type": "stream",
     "text": [
      "epoch #3: 100%|██████████| 410/410 [00:44<00:00,  9.25it/s, loss=-0.863]\n"
     ]
    },
    {
     "name": "stdout",
     "output_type": "stream",
     "text": [
      "epoch: 3, loss: -0.87186\n"
     ]
    },
    {
     "name": "stderr",
     "output_type": "stream",
     "text": [
      "epoch #4: 100%|██████████| 410/410 [00:44<00:00,  9.30it/s, loss=-0.892]\n"
     ]
    },
    {
     "name": "stdout",
     "output_type": "stream",
     "text": [
      "epoch: 4, loss: -0.87654\n"
     ]
    },
    {
     "name": "stderr",
     "output_type": "stream",
     "text": [
      "epoch #5: 100%|██████████| 410/410 [00:44<00:00,  9.23it/s, loss=-0.884]\n"
     ]
    },
    {
     "name": "stdout",
     "output_type": "stream",
     "text": [
      "epoch: 5, loss: -0.88146\n"
     ]
    },
    {
     "name": "stderr",
     "output_type": "stream",
     "text": [
      "epoch #6: 100%|██████████| 410/410 [00:44<00:00,  9.27it/s, loss=-0.897]\n"
     ]
    },
    {
     "name": "stdout",
     "output_type": "stream",
     "text": [
      "epoch: 6, loss: -0.88736\n"
     ]
    },
    {
     "name": "stderr",
     "output_type": "stream",
     "text": [
      "epoch #7: 100%|██████████| 410/410 [00:44<00:00,  9.18it/s, loss=-0.883]\n"
     ]
    },
    {
     "name": "stdout",
     "output_type": "stream",
     "text": [
      "epoch: 7, loss: -0.88949\n"
     ]
    },
    {
     "name": "stderr",
     "output_type": "stream",
     "text": [
      "epoch #8: 100%|██████████| 410/410 [00:44<00:00,  9.20it/s, loss=-0.887]\n"
     ]
    },
    {
     "name": "stdout",
     "output_type": "stream",
     "text": [
      "epoch: 8, loss: -0.89446\n"
     ]
    },
    {
     "name": "stderr",
     "output_type": "stream",
     "text": [
      "epoch #9: 100%|██████████| 410/410 [00:43<00:00,  9.35it/s, loss=-0.904]\n"
     ]
    },
    {
     "name": "stdout",
     "output_type": "stream",
     "text": [
      "epoch: 9, loss: -0.89648\n"
     ]
    },
    {
     "name": "stderr",
     "output_type": "stream",
     "text": [
      "epoch #10: 100%|██████████| 410/410 [00:44<00:00,  9.27it/s, loss=-0.899]\n"
     ]
    },
    {
     "name": "stdout",
     "output_type": "stream",
     "text": [
      "epoch: 10, loss: -0.89826\n"
     ]
    },
    {
     "name": "stderr",
     "output_type": "stream",
     "text": [
      "epoch #11: 100%|██████████| 410/410 [00:44<00:00,  9.24it/s, loss=-0.909]\n"
     ]
    },
    {
     "name": "stdout",
     "output_type": "stream",
     "text": [
      "epoch: 11, loss: -0.90032\n"
     ]
    },
    {
     "name": "stderr",
     "output_type": "stream",
     "text": [
      "epoch #12: 100%|██████████| 410/410 [00:44<00:00,  9.23it/s, loss=-0.914]\n"
     ]
    },
    {
     "name": "stdout",
     "output_type": "stream",
     "text": [
      "epoch: 12, loss: -0.90270\n"
     ]
    },
    {
     "name": "stderr",
     "output_type": "stream",
     "text": [
      "epoch #13: 100%|██████████| 410/410 [00:45<00:00,  9.08it/s, loss=-0.907]\n"
     ]
    },
    {
     "name": "stdout",
     "output_type": "stream",
     "text": [
      "epoch: 13, loss: -0.90438\n"
     ]
    },
    {
     "name": "stderr",
     "output_type": "stream",
     "text": [
      "epoch #14: 100%|██████████| 410/410 [00:44<00:00,  9.25it/s, loss=-0.92] \n"
     ]
    },
    {
     "name": "stdout",
     "output_type": "stream",
     "text": [
      "epoch: 14, loss: -0.90577\n"
     ]
    },
    {
     "name": "stderr",
     "output_type": "stream",
     "text": [
      "epoch #15: 100%|██████████| 410/410 [00:44<00:00,  9.16it/s, loss=-0.9]  \n"
     ]
    },
    {
     "name": "stdout",
     "output_type": "stream",
     "text": [
      "epoch: 15, loss: -0.90597\n"
     ]
    },
    {
     "name": "stderr",
     "output_type": "stream",
     "text": [
      "epoch #16: 100%|██████████| 410/410 [00:44<00:00,  9.19it/s, loss=-0.9]  \n"
     ]
    },
    {
     "name": "stdout",
     "output_type": "stream",
     "text": [
      "epoch: 16, loss: -0.90793\n"
     ]
    },
    {
     "name": "stderr",
     "output_type": "stream",
     "text": [
      "epoch #17: 100%|██████████| 410/410 [00:44<00:00,  9.13it/s, loss=-0.908]\n"
     ]
    },
    {
     "name": "stdout",
     "output_type": "stream",
     "text": [
      "epoch: 17, loss: -0.90849\n"
     ]
    },
    {
     "name": "stderr",
     "output_type": "stream",
     "text": [
      "epoch #18: 100%|██████████| 410/410 [00:44<00:00,  9.18it/s, loss=-0.919]\n"
     ]
    },
    {
     "name": "stdout",
     "output_type": "stream",
     "text": [
      "epoch: 18, loss: -0.91053\n"
     ]
    },
    {
     "name": "stderr",
     "output_type": "stream",
     "text": [
      "epoch #19: 100%|██████████| 410/410 [00:44<00:00,  9.23it/s, loss=-0.907]\n"
     ]
    },
    {
     "name": "stdout",
     "output_type": "stream",
     "text": [
      "epoch: 19, loss: -0.91088\n"
     ]
    },
    {
     "name": "stderr",
     "output_type": "stream",
     "text": [
      "epoch #20: 100%|██████████| 410/410 [00:44<00:00,  9.17it/s, loss=-0.898]\n"
     ]
    },
    {
     "name": "stdout",
     "output_type": "stream",
     "text": [
      "epoch: 20, loss: -0.91159\n"
     ]
    },
    {
     "name": "stderr",
     "output_type": "stream",
     "text": [
      "epoch #21: 100%|██████████| 410/410 [00:45<00:00,  9.06it/s, loss=-0.919]\n"
     ]
    },
    {
     "name": "stdout",
     "output_type": "stream",
     "text": [
      "epoch: 21, loss: -0.91223\n"
     ]
    },
    {
     "name": "stderr",
     "output_type": "stream",
     "text": [
      "epoch #22: 100%|██████████| 410/410 [00:45<00:00,  9.07it/s, loss=-0.916]\n"
     ]
    },
    {
     "name": "stdout",
     "output_type": "stream",
     "text": [
      "epoch: 22, loss: -0.91235\n"
     ]
    },
    {
     "name": "stderr",
     "output_type": "stream",
     "text": [
      "epoch #23: 100%|██████████| 410/410 [00:44<00:00,  9.14it/s, loss=-0.904]\n"
     ]
    },
    {
     "name": "stdout",
     "output_type": "stream",
     "text": [
      "epoch: 23, loss: -0.91411\n"
     ]
    },
    {
     "name": "stderr",
     "output_type": "stream",
     "text": [
      "epoch #24: 100%|██████████| 410/410 [00:44<00:00,  9.17it/s, loss=-0.914]\n"
     ]
    },
    {
     "name": "stdout",
     "output_type": "stream",
     "text": [
      "epoch: 24, loss: -0.91445\n"
     ]
    },
    {
     "name": "stderr",
     "output_type": "stream",
     "text": [
      "epoch #25: 100%|██████████| 410/410 [00:43<00:00,  9.33it/s, loss=-0.913]\n"
     ]
    },
    {
     "name": "stdout",
     "output_type": "stream",
     "text": [
      "epoch: 25, loss: -0.91524\n"
     ]
    },
    {
     "name": "stderr",
     "output_type": "stream",
     "text": [
      "epoch #26: 100%|██████████| 410/410 [00:43<00:00,  9.36it/s, loss=-0.928]\n"
     ]
    },
    {
     "name": "stdout",
     "output_type": "stream",
     "text": [
      "epoch: 26, loss: -0.91629\n"
     ]
    },
    {
     "name": "stderr",
     "output_type": "stream",
     "text": [
      "epoch #27: 100%|██████████| 410/410 [00:44<00:00,  9.22it/s, loss=-0.919]\n"
     ]
    },
    {
     "name": "stdout",
     "output_type": "stream",
     "text": [
      "epoch: 27, loss: -0.91663\n"
     ]
    },
    {
     "name": "stderr",
     "output_type": "stream",
     "text": [
      "epoch #28: 100%|██████████| 410/410 [00:43<00:00,  9.34it/s, loss=-0.913]\n"
     ]
    },
    {
     "name": "stdout",
     "output_type": "stream",
     "text": [
      "epoch: 28, loss: -0.91788\n"
     ]
    },
    {
     "name": "stderr",
     "output_type": "stream",
     "text": [
      "epoch #29: 100%|██████████| 410/410 [00:43<00:00,  9.36it/s, loss=-0.92] \n"
     ]
    },
    {
     "name": "stdout",
     "output_type": "stream",
     "text": [
      "epoch: 29, loss: -0.91835\n"
     ]
    },
    {
     "name": "stderr",
     "output_type": "stream",
     "text": [
      "epoch #30: 100%|██████████| 410/410 [00:44<00:00,  9.23it/s, loss=-0.914]\n"
     ]
    },
    {
     "name": "stdout",
     "output_type": "stream",
     "text": [
      "epoch: 30, loss: -0.91826\n"
     ]
    },
    {
     "name": "stderr",
     "output_type": "stream",
     "text": [
      "epoch #31: 100%|██████████| 410/410 [00:44<00:00,  9.21it/s, loss=-0.922]\n"
     ]
    },
    {
     "name": "stdout",
     "output_type": "stream",
     "text": [
      "epoch: 31, loss: -0.91899\n"
     ]
    },
    {
     "name": "stderr",
     "output_type": "stream",
     "text": [
      "epoch #32: 100%|██████████| 410/410 [00:43<00:00,  9.35it/s, loss=-0.919]\n"
     ]
    },
    {
     "name": "stdout",
     "output_type": "stream",
     "text": [
      "epoch: 32, loss: -0.91928\n"
     ]
    },
    {
     "name": "stderr",
     "output_type": "stream",
     "text": [
      "epoch #33: 100%|██████████| 410/410 [00:44<00:00,  9.22it/s, loss=-0.912]\n"
     ]
    },
    {
     "name": "stdout",
     "output_type": "stream",
     "text": [
      "epoch: 33, loss: -0.91875\n"
     ]
    },
    {
     "name": "stderr",
     "output_type": "stream",
     "text": [
      "epoch #34: 100%|██████████| 410/410 [00:44<00:00,  9.28it/s, loss=-0.916]\n"
     ]
    },
    {
     "name": "stdout",
     "output_type": "stream",
     "text": [
      "epoch: 34, loss: -0.91945\n"
     ]
    },
    {
     "name": "stderr",
     "output_type": "stream",
     "text": [
      "epoch #35: 100%|██████████| 410/410 [00:44<00:00,  9.31it/s, loss=-0.917]\n"
     ]
    },
    {
     "name": "stdout",
     "output_type": "stream",
     "text": [
      "epoch: 35, loss: -0.92013\n"
     ]
    },
    {
     "name": "stderr",
     "output_type": "stream",
     "text": [
      "epoch #36: 100%|██████████| 410/410 [00:44<00:00,  9.15it/s, loss=-0.922]\n"
     ]
    },
    {
     "name": "stdout",
     "output_type": "stream",
     "text": [
      "epoch: 36, loss: -0.91935\n"
     ]
    },
    {
     "name": "stderr",
     "output_type": "stream",
     "text": [
      "epoch #37: 100%|██████████| 410/410 [00:44<00:00,  9.22it/s, loss=-0.92] \n"
     ]
    },
    {
     "name": "stdout",
     "output_type": "stream",
     "text": [
      "epoch: 37, loss: -0.91979\n"
     ]
    },
    {
     "name": "stderr",
     "output_type": "stream",
     "text": [
      "epoch #38: 100%|██████████| 410/410 [00:44<00:00,  9.17it/s, loss=-0.922]\n"
     ]
    },
    {
     "name": "stdout",
     "output_type": "stream",
     "text": [
      "epoch: 38, loss: -0.92046\n"
     ]
    },
    {
     "name": "stderr",
     "output_type": "stream",
     "text": [
      "epoch #39: 100%|██████████| 410/410 [00:44<00:00,  9.19it/s, loss=-0.923]\n"
     ]
    },
    {
     "name": "stdout",
     "output_type": "stream",
     "text": [
      "epoch: 39, loss: -0.92110\n"
     ]
    },
    {
     "name": "stderr",
     "output_type": "stream",
     "text": [
      "epoch #40: 100%|██████████| 410/410 [00:44<00:00,  9.16it/s, loss=-0.93] \n"
     ]
    },
    {
     "name": "stdout",
     "output_type": "stream",
     "text": [
      "epoch: 40, loss: -0.92198\n"
     ]
    },
    {
     "name": "stderr",
     "output_type": "stream",
     "text": [
      "epoch #41: 100%|██████████| 410/410 [00:44<00:00,  9.29it/s, loss=-0.919]\n"
     ]
    },
    {
     "name": "stdout",
     "output_type": "stream",
     "text": [
      "epoch: 41, loss: -0.92137\n"
     ]
    },
    {
     "name": "stderr",
     "output_type": "stream",
     "text": [
      "epoch #42: 100%|██████████| 410/410 [00:44<00:00,  9.17it/s, loss=-0.926]\n"
     ]
    },
    {
     "name": "stdout",
     "output_type": "stream",
     "text": [
      "epoch: 42, loss: -0.92124\n"
     ]
    },
    {
     "name": "stderr",
     "output_type": "stream",
     "text": [
      "epoch #43: 100%|██████████| 410/410 [00:44<00:00,  9.18it/s, loss=-0.921]\n"
     ]
    },
    {
     "name": "stdout",
     "output_type": "stream",
     "text": [
      "epoch: 43, loss: -0.92127\n"
     ]
    },
    {
     "name": "stderr",
     "output_type": "stream",
     "text": [
      "epoch #44: 100%|██████████| 410/410 [00:44<00:00,  9.23it/s, loss=-0.927]\n"
     ]
    },
    {
     "name": "stdout",
     "output_type": "stream",
     "text": [
      "epoch: 44, loss: -0.92081\n"
     ]
    },
    {
     "name": "stderr",
     "output_type": "stream",
     "text": [
      "epoch #45: 100%|██████████| 410/410 [00:44<00:00,  9.13it/s, loss=-0.928]\n"
     ]
    },
    {
     "name": "stdout",
     "output_type": "stream",
     "text": [
      "epoch: 45, loss: -0.92238\n"
     ]
    },
    {
     "name": "stderr",
     "output_type": "stream",
     "text": [
      "epoch #46: 100%|██████████| 410/410 [00:44<00:00,  9.30it/s, loss=-0.923]\n"
     ]
    },
    {
     "name": "stdout",
     "output_type": "stream",
     "text": [
      "epoch: 46, loss: -0.92268\n"
     ]
    },
    {
     "name": "stderr",
     "output_type": "stream",
     "text": [
      "epoch #47: 100%|██████████| 410/410 [00:44<00:00,  9.20it/s, loss=-0.915]\n"
     ]
    },
    {
     "name": "stdout",
     "output_type": "stream",
     "text": [
      "epoch: 47, loss: -0.92204\n"
     ]
    },
    {
     "name": "stderr",
     "output_type": "stream",
     "text": [
      "epoch #48: 100%|██████████| 410/410 [00:44<00:00,  9.20it/s, loss=-0.921]\n"
     ]
    },
    {
     "name": "stdout",
     "output_type": "stream",
     "text": [
      "epoch: 48, loss: -0.92247\n"
     ]
    },
    {
     "name": "stderr",
     "output_type": "stream",
     "text": [
      "epoch #49: 100%|██████████| 410/410 [00:44<00:00,  9.21it/s, loss=-0.934]\n"
     ]
    },
    {
     "name": "stdout",
     "output_type": "stream",
     "text": [
      "epoch: 49, loss: -0.92293\n"
     ]
    },
    {
     "name": "stderr",
     "output_type": "stream",
     "text": [
      "epoch #50: 100%|██████████| 410/410 [00:44<00:00,  9.14it/s, loss=-0.923]\n"
     ]
    },
    {
     "name": "stdout",
     "output_type": "stream",
     "text": [
      "epoch: 50, loss: -0.92299\n"
     ]
    },
    {
     "name": "stderr",
     "output_type": "stream",
     "text": [
      "epoch #51: 100%|██████████| 410/410 [00:44<00:00,  9.14it/s, loss=-0.924]\n"
     ]
    },
    {
     "name": "stdout",
     "output_type": "stream",
     "text": [
      "epoch: 51, loss: -0.92176\n"
     ]
    },
    {
     "name": "stderr",
     "output_type": "stream",
     "text": [
      "epoch #52: 100%|██████████| 410/410 [00:44<00:00,  9.21it/s, loss=-0.919]\n"
     ]
    },
    {
     "name": "stdout",
     "output_type": "stream",
     "text": [
      "epoch: 52, loss: -0.92179\n"
     ]
    },
    {
     "name": "stderr",
     "output_type": "stream",
     "text": [
      "epoch #53: 100%|██████████| 410/410 [00:44<00:00,  9.26it/s, loss=-0.907]\n"
     ]
    },
    {
     "name": "stdout",
     "output_type": "stream",
     "text": [
      "epoch: 53, loss: -0.92266\n"
     ]
    },
    {
     "name": "stderr",
     "output_type": "stream",
     "text": [
      "epoch #54: 100%|██████████| 410/410 [00:44<00:00,  9.28it/s, loss=-0.925]\n"
     ]
    },
    {
     "name": "stdout",
     "output_type": "stream",
     "text": [
      "epoch: 54, loss: -0.92249\n"
     ]
    },
    {
     "name": "stderr",
     "output_type": "stream",
     "text": [
      "epoch #55: 100%|██████████| 410/410 [00:44<00:00,  9.18it/s, loss=-0.929]\n"
     ]
    },
    {
     "name": "stdout",
     "output_type": "stream",
     "text": [
      "epoch: 55, loss: -0.92296\n"
     ]
    },
    {
     "name": "stderr",
     "output_type": "stream",
     "text": [
      "epoch #56: 100%|██████████| 410/410 [00:44<00:00,  9.13it/s, loss=-0.914]\n"
     ]
    },
    {
     "name": "stdout",
     "output_type": "stream",
     "text": [
      "epoch: 56, loss: -0.92302\n"
     ]
    },
    {
     "name": "stderr",
     "output_type": "stream",
     "text": [
      "epoch #57: 100%|██████████| 410/410 [00:44<00:00,  9.29it/s, loss=-0.925]\n"
     ]
    },
    {
     "name": "stdout",
     "output_type": "stream",
     "text": [
      "epoch: 57, loss: -0.92303\n"
     ]
    },
    {
     "name": "stderr",
     "output_type": "stream",
     "text": [
      "epoch #58: 100%|██████████| 410/410 [00:44<00:00,  9.24it/s, loss=-0.93] \n"
     ]
    },
    {
     "name": "stdout",
     "output_type": "stream",
     "text": [
      "epoch: 58, loss: -0.92323\n"
     ]
    },
    {
     "name": "stderr",
     "output_type": "stream",
     "text": [
      "epoch #59: 100%|██████████| 410/410 [00:44<00:00,  9.23it/s, loss=-0.925]\n"
     ]
    },
    {
     "name": "stdout",
     "output_type": "stream",
     "text": [
      "epoch: 59, loss: -0.92261\n"
     ]
    },
    {
     "name": "stderr",
     "output_type": "stream",
     "text": [
      "epoch #60: 100%|██████████| 410/410 [00:44<00:00,  9.25it/s, loss=-0.922]\n"
     ]
    },
    {
     "name": "stdout",
     "output_type": "stream",
     "text": [
      "epoch: 60, loss: -0.92232\n"
     ]
    },
    {
     "name": "stderr",
     "output_type": "stream",
     "text": [
      "epoch #61: 100%|██████████| 410/410 [00:44<00:00,  9.22it/s, loss=-0.928]\n"
     ]
    },
    {
     "name": "stdout",
     "output_type": "stream",
     "text": [
      "epoch: 61, loss: -0.92246\n"
     ]
    },
    {
     "name": "stderr",
     "output_type": "stream",
     "text": [
      "epoch #62: 100%|██████████| 410/410 [00:44<00:00,  9.24it/s, loss=-0.925]\n"
     ]
    },
    {
     "name": "stdout",
     "output_type": "stream",
     "text": [
      "epoch: 62, loss: -0.92171\n"
     ]
    },
    {
     "name": "stderr",
     "output_type": "stream",
     "text": [
      "epoch #63: 100%|██████████| 410/410 [00:43<00:00,  9.32it/s, loss=-0.93] \n"
     ]
    },
    {
     "name": "stdout",
     "output_type": "stream",
     "text": [
      "epoch: 63, loss: -0.92139\n"
     ]
    },
    {
     "name": "stderr",
     "output_type": "stream",
     "text": [
      "epoch #64: 100%|██████████| 410/410 [00:44<00:00,  9.22it/s, loss=-0.919]\n"
     ]
    },
    {
     "name": "stdout",
     "output_type": "stream",
     "text": [
      "epoch: 64, loss: -0.92140\n"
     ]
    },
    {
     "name": "stderr",
     "output_type": "stream",
     "text": [
      "epoch #65: 100%|██████████| 410/410 [00:44<00:00,  9.31it/s, loss=-0.929]\n"
     ]
    },
    {
     "name": "stdout",
     "output_type": "stream",
     "text": [
      "epoch: 65, loss: -0.92118\n"
     ]
    },
    {
     "name": "stderr",
     "output_type": "stream",
     "text": [
      "epoch #66: 100%|██████████| 410/410 [00:44<00:00,  9.20it/s, loss=-0.912]\n"
     ]
    },
    {
     "name": "stdout",
     "output_type": "stream",
     "text": [
      "epoch: 66, loss: -0.92123\n"
     ]
    },
    {
     "name": "stderr",
     "output_type": "stream",
     "text": [
      "epoch #67: 100%|██████████| 410/410 [00:44<00:00,  9.21it/s, loss=-0.926]\n"
     ]
    },
    {
     "name": "stdout",
     "output_type": "stream",
     "text": [
      "epoch: 67, loss: -0.92171\n"
     ]
    },
    {
     "name": "stderr",
     "output_type": "stream",
     "text": [
      "epoch #68: 100%|██████████| 410/410 [00:44<00:00,  9.29it/s, loss=-0.918]\n"
     ]
    },
    {
     "name": "stdout",
     "output_type": "stream",
     "text": [
      "epoch: 68, loss: -0.92165\n"
     ]
    },
    {
     "name": "stderr",
     "output_type": "stream",
     "text": [
      "epoch #69: 100%|██████████| 410/410 [00:44<00:00,  9.22it/s, loss=-0.917]\n"
     ]
    },
    {
     "name": "stdout",
     "output_type": "stream",
     "text": [
      "epoch: 69, loss: -0.92133\n"
     ]
    },
    {
     "name": "stderr",
     "output_type": "stream",
     "text": [
      "epoch #70: 100%|██████████| 410/410 [00:44<00:00,  9.19it/s, loss=-0.917]\n"
     ]
    },
    {
     "name": "stdout",
     "output_type": "stream",
     "text": [
      "epoch: 70, loss: -0.92156\n"
     ]
    },
    {
     "name": "stderr",
     "output_type": "stream",
     "text": [
      "epoch #71: 100%|██████████| 410/410 [00:44<00:00,  9.17it/s, loss=-0.919]\n"
     ]
    },
    {
     "name": "stdout",
     "output_type": "stream",
     "text": [
      "epoch: 71, loss: -0.92176\n"
     ]
    },
    {
     "name": "stderr",
     "output_type": "stream",
     "text": [
      "epoch #72: 100%|██████████| 410/410 [00:44<00:00,  9.27it/s, loss=-0.917]\n"
     ]
    },
    {
     "name": "stdout",
     "output_type": "stream",
     "text": [
      "epoch: 72, loss: -0.92047\n"
     ]
    },
    {
     "name": "stderr",
     "output_type": "stream",
     "text": [
      "epoch #73: 100%|██████████| 410/410 [00:44<00:00,  9.23it/s, loss=-0.928]\n"
     ]
    },
    {
     "name": "stdout",
     "output_type": "stream",
     "text": [
      "epoch: 73, loss: -0.92079\n"
     ]
    },
    {
     "name": "stderr",
     "output_type": "stream",
     "text": [
      "epoch #74: 100%|██████████| 410/410 [00:44<00:00,  9.21it/s, loss=-0.91] \n"
     ]
    },
    {
     "name": "stdout",
     "output_type": "stream",
     "text": [
      "epoch: 74, loss: -0.92128\n"
     ]
    },
    {
     "name": "stderr",
     "output_type": "stream",
     "text": [
      "epoch #75: 100%|██████████| 410/410 [00:44<00:00,  9.16it/s, loss=-0.93] \n"
     ]
    },
    {
     "name": "stdout",
     "output_type": "stream",
     "text": [
      "epoch: 75, loss: -0.92034\n"
     ]
    },
    {
     "name": "stderr",
     "output_type": "stream",
     "text": [
      "epoch #76: 100%|██████████| 410/410 [00:44<00:00,  9.15it/s, loss=-0.921]\n"
     ]
    },
    {
     "name": "stdout",
     "output_type": "stream",
     "text": [
      "epoch: 76, loss: -0.92113\n"
     ]
    },
    {
     "name": "stderr",
     "output_type": "stream",
     "text": [
      "epoch #77: 100%|██████████| 410/410 [00:45<00:00,  9.10it/s, loss=-0.921]\n"
     ]
    },
    {
     "name": "stdout",
     "output_type": "stream",
     "text": [
      "epoch: 77, loss: -0.92034\n"
     ]
    },
    {
     "name": "stderr",
     "output_type": "stream",
     "text": [
      "epoch #78: 100%|██████████| 410/410 [00:44<00:00,  9.14it/s, loss=-0.92] \n"
     ]
    },
    {
     "name": "stdout",
     "output_type": "stream",
     "text": [
      "epoch: 78, loss: -0.92008\n"
     ]
    },
    {
     "name": "stderr",
     "output_type": "stream",
     "text": [
      "epoch #79: 100%|██████████| 410/410 [00:44<00:00,  9.15it/s, loss=-0.92] \n"
     ]
    },
    {
     "name": "stdout",
     "output_type": "stream",
     "text": [
      "epoch: 79, loss: -0.92062\n"
     ]
    },
    {
     "name": "stderr",
     "output_type": "stream",
     "text": [
      "epoch #80: 100%|██████████| 410/410 [00:44<00:00,  9.14it/s, loss=-0.924]\n"
     ]
    },
    {
     "name": "stdout",
     "output_type": "stream",
     "text": [
      "epoch: 80, loss: -0.92056\n"
     ]
    },
    {
     "name": "stderr",
     "output_type": "stream",
     "text": [
      "epoch #81: 100%|██████████| 410/410 [00:45<00:00,  9.10it/s, loss=-0.925]\n"
     ]
    },
    {
     "name": "stdout",
     "output_type": "stream",
     "text": [
      "epoch: 81, loss: -0.92058\n"
     ]
    },
    {
     "name": "stderr",
     "output_type": "stream",
     "text": [
      "epoch #82: 100%|██████████| 410/410 [00:44<00:00,  9.12it/s, loss=-0.914]\n"
     ]
    },
    {
     "name": "stdout",
     "output_type": "stream",
     "text": [
      "epoch: 82, loss: -0.92034\n"
     ]
    },
    {
     "name": "stderr",
     "output_type": "stream",
     "text": [
      "epoch #83: 100%|██████████| 410/410 [00:44<00:00,  9.15it/s, loss=-0.918]\n"
     ]
    },
    {
     "name": "stdout",
     "output_type": "stream",
     "text": [
      "epoch: 83, loss: -0.92026\n"
     ]
    },
    {
     "name": "stderr",
     "output_type": "stream",
     "text": [
      "epoch #84: 100%|██████████| 410/410 [00:45<00:00,  9.06it/s, loss=-0.924]\n"
     ]
    },
    {
     "name": "stdout",
     "output_type": "stream",
     "text": [
      "epoch: 84, loss: -0.92087\n"
     ]
    },
    {
     "name": "stderr",
     "output_type": "stream",
     "text": [
      "epoch #85: 100%|██████████| 410/410 [00:44<00:00,  9.16it/s, loss=-0.927]\n"
     ]
    },
    {
     "name": "stdout",
     "output_type": "stream",
     "text": [
      "epoch: 85, loss: -0.92100\n"
     ]
    },
    {
     "name": "stderr",
     "output_type": "stream",
     "text": [
      "epoch #86: 100%|██████████| 410/410 [00:44<00:00,  9.14it/s, loss=-0.931]\n"
     ]
    },
    {
     "name": "stdout",
     "output_type": "stream",
     "text": [
      "epoch: 86, loss: -0.92078\n"
     ]
    },
    {
     "name": "stderr",
     "output_type": "stream",
     "text": [
      "epoch #87: 100%|██████████| 410/410 [00:44<00:00,  9.22it/s, loss=-0.909]\n"
     ]
    },
    {
     "name": "stdout",
     "output_type": "stream",
     "text": [
      "epoch: 87, loss: -0.92059\n"
     ]
    },
    {
     "name": "stderr",
     "output_type": "stream",
     "text": [
      "epoch #88: 100%|██████████| 410/410 [00:44<00:00,  9.23it/s, loss=-0.917]\n"
     ]
    },
    {
     "name": "stdout",
     "output_type": "stream",
     "text": [
      "epoch: 88, loss: -0.92108\n"
     ]
    },
    {
     "name": "stderr",
     "output_type": "stream",
     "text": [
      "epoch #89: 100%|██████████| 410/410 [00:44<00:00,  9.17it/s, loss=-0.913]\n"
     ]
    },
    {
     "name": "stdout",
     "output_type": "stream",
     "text": [
      "epoch: 89, loss: -0.92057\n"
     ]
    },
    {
     "name": "stderr",
     "output_type": "stream",
     "text": [
      "epoch #90: 100%|██████████| 410/410 [00:44<00:00,  9.23it/s, loss=-0.922]\n"
     ]
    },
    {
     "name": "stdout",
     "output_type": "stream",
     "text": [
      "epoch: 90, loss: -0.92084\n"
     ]
    },
    {
     "name": "stderr",
     "output_type": "stream",
     "text": [
      "epoch #91: 100%|██████████| 410/410 [00:44<00:00,  9.21it/s, loss=-0.913]\n"
     ]
    },
    {
     "name": "stdout",
     "output_type": "stream",
     "text": [
      "epoch: 91, loss: -0.92083\n"
     ]
    },
    {
     "name": "stderr",
     "output_type": "stream",
     "text": [
      "epoch #92: 100%|██████████| 410/410 [00:43<00:00,  9.34it/s, loss=-0.916]\n"
     ]
    },
    {
     "name": "stdout",
     "output_type": "stream",
     "text": [
      "epoch: 92, loss: -0.92122\n"
     ]
    },
    {
     "name": "stderr",
     "output_type": "stream",
     "text": [
      "epoch #93: 100%|██████████| 410/410 [00:44<00:00,  9.11it/s, loss=-0.924]\n"
     ]
    },
    {
     "name": "stdout",
     "output_type": "stream",
     "text": [
      "epoch: 93, loss: -0.92075\n"
     ]
    },
    {
     "name": "stderr",
     "output_type": "stream",
     "text": [
      "epoch #94: 100%|██████████| 410/410 [00:44<00:00,  9.23it/s, loss=-0.925]\n"
     ]
    },
    {
     "name": "stdout",
     "output_type": "stream",
     "text": [
      "epoch: 94, loss: -0.92032\n"
     ]
    },
    {
     "name": "stderr",
     "output_type": "stream",
     "text": [
      "epoch #95: 100%|██████████| 410/410 [00:44<00:00,  9.15it/s, loss=-0.916]\n"
     ]
    },
    {
     "name": "stdout",
     "output_type": "stream",
     "text": [
      "epoch: 95, loss: -0.92068\n"
     ]
    },
    {
     "name": "stderr",
     "output_type": "stream",
     "text": [
      "epoch #96: 100%|██████████| 410/410 [00:44<00:00,  9.21it/s, loss=-0.918]\n"
     ]
    },
    {
     "name": "stdout",
     "output_type": "stream",
     "text": [
      "epoch: 96, loss: -0.92064\n"
     ]
    },
    {
     "name": "stderr",
     "output_type": "stream",
     "text": [
      "epoch #97: 100%|██████████| 410/410 [00:44<00:00,  9.20it/s, loss=-0.92] \n"
     ]
    },
    {
     "name": "stdout",
     "output_type": "stream",
     "text": [
      "epoch: 97, loss: -0.92015\n"
     ]
    },
    {
     "name": "stderr",
     "output_type": "stream",
     "text": [
      "epoch #98: 100%|██████████| 410/410 [00:44<00:00,  9.15it/s, loss=-0.919]\n"
     ]
    },
    {
     "name": "stdout",
     "output_type": "stream",
     "text": [
      "epoch: 98, loss: -0.91984\n"
     ]
    },
    {
     "name": "stderr",
     "output_type": "stream",
     "text": [
      "epoch #99: 100%|██████████| 410/410 [00:44<00:00,  9.17it/s, loss=-0.915]\n"
     ]
    },
    {
     "name": "stdout",
     "output_type": "stream",
     "text": [
      "epoch: 99, loss: -0.91969\n"
     ]
    }
   ],
   "source": [
    "save_dir = os.path.join('./', run_name)\n",
    "os.makedirs(save_dir, exist_ok=True)\n",
    "use_pretrained = False\n",
    "pretrained_weights = torchvision.models.ResNet18_Weights.DEFAULT if use_pretrained else None\n",
    "resnet = torchvision.models.resnet18(weights=pretrained_weights)\n",
    "backbone = nn.Sequential(*list(resnet.children())[:-1])\n",
    "num_ftrs = backbone(torch.rand(1, 3, image_size, image_size)).view(-1).shape[-1]\n",
    "print(f'output features from backbone: {num_ftrs}')\n",
    "# initialize the BYOL() model\n",
    "model = BYOL(backbone, num_ftrs=num_ftrs, hidden_dim=hidden_dim, out_dim=out_dim, batch_norm=True)\n",
    "model.to(device)\n",
    "optimizer = torch.optim.Adam(model.parameters(), lr=lr)\n",
    "# scheduler is used only if you train for at least 300 epcochs\n",
    "scheduler = torch.optim.lr_scheduler.MultiStepLR(optimizer, milestones=[300, 350, 380], gamma=0.1, verbose=True)\n",
    "start_epoch = load_from_checkpoint(model, optimizer, device, save_dir=save_dir)\n",
    "\n",
    "print(\"Starting Training\")\n",
    "for epoch in range(start_epoch, epochs):\n",
    "    total_loss = 0\n",
    "    pbar = tqdm(iterable=dataloader)\n",
    "    for (x0, x1), _ in pbar:\n",
    "        momentum_update(momentum_params=model.momentum_backbone.parameters(), new_params=model.backbone.parameters(), m=m)\n",
    "        # update momentum of the projection head (model.projection_head.parameters())\n",
    "        momentum_update(momentum_params=model.momentum_projection_head.parameters(), new_params=model.projection_head.parameters(), m=m) # TODO\n",
    "        x0 = x0.to(device)\n",
    "        x1 = x1.to(device)\n",
    "        (z0, p0), (z1, p1) = model(x0, x1)\n",
    "        # calculate loss for both sides\n",
    "        loss = 0.5 * (criterion(p0, z1) + criterion(p1, z0))  # TODO\n",
    "        total_loss += loss.detach()\n",
    "        \n",
    "        optimizer.zero_grad()\n",
    "        loss.backward()\n",
    "        optimizer.step()\n",
    "        \n",
    "        # progress bar\n",
    "        pbar.set_description_str(f'epoch #{epoch}')\n",
    "        pbar.set_postfix(loss=loss.data.cpu().item())\n",
    "    pbar.close()\n",
    "    avg_loss = total_loss / len(dataloader)\n",
    "    print(f\"epoch: {epoch}, loss: {avg_loss:.5f}\")\n",
    "    scheduler.step()\n",
    "    save_checkpoint(model, optimizer, epoch, save_dir)"
   ]
  },
  {
   "cell_type": "markdown",
   "metadata": {},
   "source": [
    "### BYOL with Pre-trained Backbone\n",
    "---"
   ]
  },
  {
   "cell_type": "code",
   "execution_count": 52,
   "metadata": {},
   "outputs": [
    {
     "name": "stdout",
     "output_type": "stream",
     "text": [
      "output features from backbone: 512\n",
      "model checkpoint not found, training from scratch\n",
      "Starting Training\n"
     ]
    },
    {
     "name": "stderr",
     "output_type": "stream",
     "text": [
      "epoch #0: 100%|██████████| 410/410 [00:44<00:00,  9.23it/s, loss=-0.905]\n"
     ]
    },
    {
     "name": "stdout",
     "output_type": "stream",
     "text": [
      "epoch: 0, loss: -0.84241\n"
     ]
    },
    {
     "name": "stderr",
     "output_type": "stream",
     "text": [
      "epoch #1: 100%|██████████| 410/410 [00:44<00:00,  9.21it/s, loss=-0.903]\n"
     ]
    },
    {
     "name": "stdout",
     "output_type": "stream",
     "text": [
      "epoch: 1, loss: -0.90529\n"
     ]
    },
    {
     "name": "stderr",
     "output_type": "stream",
     "text": [
      "epoch #2: 100%|██████████| 410/410 [00:45<00:00,  9.10it/s, loss=-0.923]\n"
     ]
    },
    {
     "name": "stdout",
     "output_type": "stream",
     "text": [
      "epoch: 2, loss: -0.91124\n"
     ]
    },
    {
     "name": "stderr",
     "output_type": "stream",
     "text": [
      "epoch #3: 100%|██████████| 410/410 [00:44<00:00,  9.21it/s, loss=-0.917]\n"
     ]
    },
    {
     "name": "stdout",
     "output_type": "stream",
     "text": [
      "epoch: 3, loss: -0.91594\n"
     ]
    },
    {
     "name": "stderr",
     "output_type": "stream",
     "text": [
      "epoch #4: 100%|██████████| 410/410 [00:44<00:00,  9.14it/s, loss=-0.915]\n"
     ]
    },
    {
     "name": "stdout",
     "output_type": "stream",
     "text": [
      "epoch: 4, loss: -0.91760\n"
     ]
    },
    {
     "name": "stderr",
     "output_type": "stream",
     "text": [
      "epoch #5: 100%|██████████| 410/410 [00:44<00:00,  9.21it/s, loss=-0.929]\n"
     ]
    },
    {
     "name": "stdout",
     "output_type": "stream",
     "text": [
      "epoch: 5, loss: -0.92025\n"
     ]
    },
    {
     "name": "stderr",
     "output_type": "stream",
     "text": [
      "epoch #6: 100%|██████████| 410/410 [00:44<00:00,  9.21it/s, loss=-0.926]\n"
     ]
    },
    {
     "name": "stdout",
     "output_type": "stream",
     "text": [
      "epoch: 6, loss: -0.92054\n"
     ]
    },
    {
     "name": "stderr",
     "output_type": "stream",
     "text": [
      "epoch #7: 100%|██████████| 410/410 [00:44<00:00,  9.17it/s, loss=-0.927]\n"
     ]
    },
    {
     "name": "stdout",
     "output_type": "stream",
     "text": [
      "epoch: 7, loss: -0.92168\n"
     ]
    },
    {
     "name": "stderr",
     "output_type": "stream",
     "text": [
      "epoch #8: 100%|██████████| 410/410 [00:45<00:00,  9.10it/s, loss=-0.917]\n"
     ]
    },
    {
     "name": "stdout",
     "output_type": "stream",
     "text": [
      "epoch: 8, loss: -0.92157\n"
     ]
    },
    {
     "name": "stderr",
     "output_type": "stream",
     "text": [
      "epoch #9: 100%|██████████| 410/410 [00:44<00:00,  9.19it/s, loss=-0.924]\n"
     ]
    },
    {
     "name": "stdout",
     "output_type": "stream",
     "text": [
      "epoch: 9, loss: -0.92103\n"
     ]
    },
    {
     "name": "stderr",
     "output_type": "stream",
     "text": [
      "epoch #10: 100%|██████████| 410/410 [00:44<00:00,  9.20it/s, loss=-0.921]\n"
     ]
    },
    {
     "name": "stdout",
     "output_type": "stream",
     "text": [
      "epoch: 10, loss: -0.92104\n"
     ]
    },
    {
     "name": "stderr",
     "output_type": "stream",
     "text": [
      "epoch #11: 100%|██████████| 410/410 [00:44<00:00,  9.23it/s, loss=-0.922]\n"
     ]
    },
    {
     "name": "stdout",
     "output_type": "stream",
     "text": [
      "epoch: 11, loss: -0.92024\n"
     ]
    },
    {
     "name": "stderr",
     "output_type": "stream",
     "text": [
      "epoch #12: 100%|██████████| 410/410 [00:44<00:00,  9.14it/s, loss=-0.926]\n"
     ]
    },
    {
     "name": "stdout",
     "output_type": "stream",
     "text": [
      "epoch: 12, loss: -0.92005\n"
     ]
    },
    {
     "name": "stderr",
     "output_type": "stream",
     "text": [
      "epoch #13: 100%|██████████| 410/410 [00:43<00:00,  9.35it/s, loss=-0.919]\n"
     ]
    },
    {
     "name": "stdout",
     "output_type": "stream",
     "text": [
      "epoch: 13, loss: -0.92016\n"
     ]
    },
    {
     "name": "stderr",
     "output_type": "stream",
     "text": [
      "epoch #14: 100%|██████████| 410/410 [00:44<00:00,  9.30it/s, loss=-0.924]\n"
     ]
    },
    {
     "name": "stdout",
     "output_type": "stream",
     "text": [
      "epoch: 14, loss: -0.92068\n"
     ]
    },
    {
     "name": "stderr",
     "output_type": "stream",
     "text": [
      "epoch #15: 100%|██████████| 410/410 [00:43<00:00,  9.33it/s, loss=-0.917]\n"
     ]
    },
    {
     "name": "stdout",
     "output_type": "stream",
     "text": [
      "epoch: 15, loss: -0.92028\n"
     ]
    },
    {
     "name": "stderr",
     "output_type": "stream",
     "text": [
      "epoch #16: 100%|██████████| 410/410 [00:44<00:00,  9.22it/s, loss=-0.919]\n"
     ]
    },
    {
     "name": "stdout",
     "output_type": "stream",
     "text": [
      "epoch: 16, loss: -0.92084\n"
     ]
    },
    {
     "name": "stderr",
     "output_type": "stream",
     "text": [
      "epoch #17: 100%|██████████| 410/410 [00:44<00:00,  9.29it/s, loss=-0.924]\n"
     ]
    },
    {
     "name": "stdout",
     "output_type": "stream",
     "text": [
      "epoch: 17, loss: -0.92006\n"
     ]
    },
    {
     "name": "stderr",
     "output_type": "stream",
     "text": [
      "epoch #18: 100%|██████████| 410/410 [00:44<00:00,  9.16it/s, loss=-0.919]\n"
     ]
    },
    {
     "name": "stdout",
     "output_type": "stream",
     "text": [
      "epoch: 18, loss: -0.91938\n"
     ]
    },
    {
     "name": "stderr",
     "output_type": "stream",
     "text": [
      "epoch #19: 100%|██████████| 410/410 [00:44<00:00,  9.20it/s, loss=-0.921]\n"
     ]
    },
    {
     "name": "stdout",
     "output_type": "stream",
     "text": [
      "epoch: 19, loss: -0.91934\n"
     ]
    },
    {
     "name": "stderr",
     "output_type": "stream",
     "text": [
      "epoch #20: 100%|██████████| 410/410 [00:44<00:00,  9.28it/s, loss=-0.928]\n"
     ]
    },
    {
     "name": "stdout",
     "output_type": "stream",
     "text": [
      "epoch: 20, loss: -0.91823\n"
     ]
    },
    {
     "name": "stderr",
     "output_type": "stream",
     "text": [
      "epoch #21: 100%|██████████| 410/410 [00:43<00:00,  9.34it/s, loss=-0.917]\n"
     ]
    },
    {
     "name": "stdout",
     "output_type": "stream",
     "text": [
      "epoch: 21, loss: -0.91825\n"
     ]
    },
    {
     "name": "stderr",
     "output_type": "stream",
     "text": [
      "epoch #22: 100%|██████████| 410/410 [00:44<00:00,  9.12it/s, loss=-0.92] \n"
     ]
    },
    {
     "name": "stdout",
     "output_type": "stream",
     "text": [
      "epoch: 22, loss: -0.91795\n"
     ]
    },
    {
     "name": "stderr",
     "output_type": "stream",
     "text": [
      "epoch #23: 100%|██████████| 410/410 [00:44<00:00,  9.27it/s, loss=-0.91] \n"
     ]
    },
    {
     "name": "stdout",
     "output_type": "stream",
     "text": [
      "epoch: 23, loss: -0.91744\n"
     ]
    },
    {
     "name": "stderr",
     "output_type": "stream",
     "text": [
      "epoch #24: 100%|██████████| 410/410 [00:44<00:00,  9.17it/s, loss=-0.927]\n"
     ]
    },
    {
     "name": "stdout",
     "output_type": "stream",
     "text": [
      "epoch: 24, loss: -0.91767\n"
     ]
    },
    {
     "name": "stderr",
     "output_type": "stream",
     "text": [
      "epoch #25:   4%|▎         | 15/410 [00:02<01:05,  6.07it/s, loss=-0.911]\n"
     ]
    },
    {
     "ename": "KeyboardInterrupt",
     "evalue": "",
     "output_type": "error",
     "traceback": [
      "\u001b[0;31m---------------------------------------------------------------------------\u001b[0m",
      "\u001b[0;31mKeyboardInterrupt\u001b[0m                         Traceback (most recent call last)",
      "Cell \u001b[0;32mIn[52], line 31\u001b[0m\n\u001b[1;32m     29\u001b[0m pbar \u001b[38;5;241m=\u001b[39m tqdm(iterable\u001b[38;5;241m=\u001b[39mdataloader)\n\u001b[1;32m     30\u001b[0m \u001b[38;5;28;01mfor\u001b[39;00m (x0, x1), _ \u001b[38;5;129;01min\u001b[39;00m pbar:\n\u001b[0;32m---> 31\u001b[0m     momentum_update(momentum_params\u001b[38;5;241m=\u001b[39m\u001b[43mmodel\u001b[49m\u001b[38;5;241;43m.\u001b[39;49m\u001b[43mmomentum_backbone\u001b[49m\u001b[38;5;241m.\u001b[39mparameters(), new_params\u001b[38;5;241m=\u001b[39mmodel\u001b[38;5;241m.\u001b[39mbackbone\u001b[38;5;241m.\u001b[39mparameters(), m\u001b[38;5;241m=\u001b[39mm)\n\u001b[1;32m     32\u001b[0m     \u001b[38;5;66;03m# update momentum of the projection head (model.projection_head.parameters())\u001b[39;00m\n\u001b[1;32m     33\u001b[0m     momentum_update(momentum_params\u001b[38;5;241m=\u001b[39mmodel\u001b[38;5;241m.\u001b[39mmomentum_projection_head\u001b[38;5;241m.\u001b[39mparameters(), new_params\u001b[38;5;241m=\u001b[39mmodel\u001b[38;5;241m.\u001b[39mprojection_head\u001b[38;5;241m.\u001b[39mparameters(), m\u001b[38;5;241m=\u001b[39mm) \u001b[38;5;66;03m# TODO\u001b[39;00m\n",
      "File \u001b[0;32m~/Desktop/Deep Learning experiment/Meeting 2/.venv/lib/python3.11/site-packages/torch/nn/modules/module.py:1675\u001b[0m, in \u001b[0;36mModule.__getattr__\u001b[0;34m(self, name)\u001b[0m\n\u001b[1;32m   1666\u001b[0m         \u001b[38;5;28mself\u001b[39m\u001b[38;5;241m.\u001b[39m_backward_pre_hooks \u001b[38;5;241m=\u001b[39m OrderedDict()\n\u001b[1;32m   1668\u001b[0m \u001b[38;5;66;03m# On the return type:\u001b[39;00m\n\u001b[1;32m   1669\u001b[0m \u001b[38;5;66;03m# We choose to return `Any` in the `__getattr__` type signature instead of a more strict `Union[Tensor, Module]`.\u001b[39;00m\n\u001b[1;32m   1670\u001b[0m \u001b[38;5;66;03m# This is done for better interop with various type checkers for the end users.\u001b[39;00m\n\u001b[0;32m   (...)\u001b[0m\n\u001b[1;32m   1673\u001b[0m \u001b[38;5;66;03m# See full discussion on the problems with returning `Union` here\u001b[39;00m\n\u001b[1;32m   1674\u001b[0m \u001b[38;5;66;03m# https://github.com/microsoft/pyright/issues/4213\u001b[39;00m\n\u001b[0;32m-> 1675\u001b[0m \u001b[38;5;28;01mdef\u001b[39;00m \u001b[38;5;21m__getattr__\u001b[39m(\u001b[38;5;28mself\u001b[39m, name: \u001b[38;5;28mstr\u001b[39m) \u001b[38;5;241m-\u001b[39m\u001b[38;5;241m>\u001b[39m Any:\n\u001b[1;32m   1676\u001b[0m     \u001b[38;5;28;01mif\u001b[39;00m \u001b[38;5;124m'\u001b[39m\u001b[38;5;124m_parameters\u001b[39m\u001b[38;5;124m'\u001b[39m \u001b[38;5;129;01min\u001b[39;00m \u001b[38;5;28mself\u001b[39m\u001b[38;5;241m.\u001b[39m\u001b[38;5;18m__dict__\u001b[39m:\n\u001b[1;32m   1677\u001b[0m         _parameters \u001b[38;5;241m=\u001b[39m \u001b[38;5;28mself\u001b[39m\u001b[38;5;241m.\u001b[39m\u001b[38;5;18m__dict__\u001b[39m[\u001b[38;5;124m'\u001b[39m\u001b[38;5;124m_parameters\u001b[39m\u001b[38;5;124m'\u001b[39m]\n",
      "\u001b[0;31mKeyboardInterrupt\u001b[0m: "
     ]
    }
   ],
   "source": [
    "use_pretrianed = True  # flag to load pre-trained ImageNet backbone weights, will use later\n",
    "run_name = f'byol_cosine_pretrained_{use_pretrianed}'\n",
    "save_dir = os.path.join('./', run_name)\n",
    "os.makedirs(save_dir, exist_ok=True)\n",
    "epochs = 40\n",
    "# other hyper-parameters you wish to change \n",
    "# pick hyper-paramteres\n",
    "\n",
    "lr = 2e-4 # TODO, values should be in [1e-4, 1e-4]\n",
    "\n",
    "\n",
    "# TODO, copy training code from above\n",
    "pretrained_weights = torchvision.models.ResNet18_Weights.DEFAULT if use_pretrianed else None\n",
    "resnet = torchvision.models.resnet18(weights=pretrained_weights)\n",
    "backbone = nn.Sequential(*list(resnet.children())[:-1])\n",
    "num_ftrs = backbone(torch.rand(1, 3, image_size, image_size)).view(-1).shape[-1]\n",
    "print(f'output features from backbone: {num_ftrs}')\n",
    "# initialize the BYOL() model\n",
    "model = BYOL(backbone, num_ftrs=num_ftrs, hidden_dim=hidden_dim, out_dim=out_dim, batch_norm=True)\n",
    "model.to(device)\n",
    "optimizer = torch.optim.Adam(model.parameters(), lr=lr)\n",
    "# scheduler is used only if you train for at least 300 epcochs\n",
    "scheduler = torch.optim.lr_scheduler.MultiStepLR(optimizer, milestones=[300, 350, 380], gamma=0.1, verbose=True)\n",
    "start_epoch = load_from_checkpoint(model, optimizer, device, save_dir=save_dir)\n",
    "\n",
    "print(\"Starting Training\")\n",
    "for epoch in range(start_epoch, epochs):\n",
    "    total_loss = 0\n",
    "    pbar = tqdm(iterable=dataloader)\n",
    "    for (x0, x1), _ in pbar:\n",
    "        momentum_update(momentum_params=model.momentum_backbone.parameters(), new_params=model.backbone.parameters(), m=m)\n",
    "        # update momentum of the projection head (model.projection_head.parameters())\n",
    "        momentum_update(momentum_params=model.momentum_projection_head.parameters(), new_params=model.projection_head.parameters(), m=m) # TODO\n",
    "        x0 = x0.to(device)\n",
    "        x1 = x1.to(device)\n",
    "        (z0, p0), (z1, p1) = model(x0, x1)\n",
    "        # calculate loss for both sides\n",
    "        loss = 0.5 * (criterion(p0, z1) + criterion(p1, z0))  # TODO\n",
    "        total_loss += loss.detach()\n",
    "        \n",
    "        optimizer.zero_grad()\n",
    "        loss.backward()\n",
    "        optimizer.step()\n",
    "        \n",
    "        # progress bar\n",
    "        pbar.set_description_str(f'epoch #{epoch}')\n",
    "        pbar.set_postfix(loss=loss.data.cpu().item())\n",
    "    pbar.close()\n",
    "    avg_loss = total_loss / len(dataloader)\n",
    "    print(f\"epoch: {epoch}, loss: {avg_loss:.5f}\")\n",
    "    scheduler.step()\n",
    "    save_checkpoint(model, optimizer, epoch, save_dir)"
   ]
  },
  {
   "cell_type": "markdown",
   "metadata": {},
   "source": [
    "## <img src=\"./assets/icons/code.png\" style=\"height:50px;display:inline\"> Task 6 - Probing the Model\n",
    "---\n",
    "* To analyze the quality of the representation, we can project them to 2D using a dimensionality reduction technique.\n",
    "    * **Question 6.1**: Let's assume that we have very good representations. When we plot the representations of examples from all classes, what should we ideally see in the map?\n",
    "* In this lab, we will use t-SNE as our dimensionality technique. For the *labeled* training data, extract the representations from the trained models, apply t-SNE to project them to 2D and plot of the projections of the training data with their labels (labels will be different colors in the plot).\n",
    "    * **Question 6.2**: Explain the resulting projection map."
   ]
  },
  {
   "cell_type": "markdown",
   "metadata": {},
   "source": [
    "### t-SNE - BYOL from Scratch\n",
    "---"
   ]
  },
  {
   "cell_type": "code",
   "execution_count": 18,
   "metadata": {},
   "outputs": [
    {
     "name": "stdout",
     "output_type": "stream",
     "text": [
      "loaded model from checkpoint, resuming training from epoch 99\n"
     ]
    }
   ],
   "source": [
    "# start with the trained-from-scratch model\n",
    "# load model\n",
    "use_pretrained = False  # flag to load pre-trained ImageNet backbone weights, will use later\n",
    "run_name = f'byol_cosine_pretrained_{use_pretrained}'\n",
    "save_dir = os.path.join('./', run_name)\n",
    "resnet = torchvision.models.resnet18()\n",
    "backbone = nn.Sequential(*list(resnet.children())[:-1])\n",
    "num_ftrs = backbone(torch.rand(1, 3, image_size, image_size)).view(-1).shape[-1]\n",
    "model = BYOL(backbone, num_ftrs, hidden_dim, out_dim, batch_norm=True)\n",
    "model.to(device)\n",
    "model.eval()\n",
    "_ = load_from_checkpoint(model, optimizer, device, save_dir=save_dir)"
   ]
  },
  {
   "cell_type": "code",
   "execution_count": 19,
   "metadata": {},
   "outputs": [
    {
     "name": "stdout",
     "output_type": "stream",
     "text": [
      "Files already downloaded and verified\n"
     ]
    }
   ],
   "source": [
    "# load dataloader\n",
    "normalize = {\"mean\": [0.485, 0.456, 0.406], \"std\": [0.229, 0.224, 0.225]}\n",
    "transforms = T.Compose([T.Resize(image_size),\n",
    "                        T.ToTensor(),\n",
    "                        T.Normalize(mean=normalize[\"mean\"], std=normalize[\"std\"])])\n",
    "train_ds = torchvision.datasets.STL10(\"./datasets/stl10\", download=True, split=\"train\", transform=transforms)\n",
    "train_dl = DataLoader(train_ds, batch_size=256, shuffle=True)"
   ]
  },
  {
   "cell_type": "code",
   "execution_count": 39,
   "metadata": {},
   "outputs": [],
   "source": [
    "# get the representations from the model\n",
    "num_points = 500 * 10  # images_per_class * num_classes\n",
    "num_iter = num_points // 256\n",
    "encodings = []\n",
    "labels = []\n",
    "data_iter = iter(train_dl)\n",
    "for i in range(num_iter):\n",
    "    batch = next(data_iter)\n",
    "    x = batch[0].to(device)\n",
    "    labels.append(batch[1])\n",
    "    with torch.no_grad():\n",
    "        f = model.backbone(x).flatten(start_dim=1) # TODO: extract representation from the model\n",
    "        z = f\n",
    "        encodings.append(z)\n",
    "encodings = torch.cat(encodings, dim=0)\n",
    "labels = torch.cat(labels, dim=0)"
   ]
  },
  {
   "cell_type": "code",
   "execution_count": 40,
   "metadata": {},
   "outputs": [
    {
     "data": {
      "text/plain": [
       "Text(0.5, 1.0, 't-SNE of BYOL Latent Space on STL-10')"
      ]
     },
     "execution_count": 40,
     "metadata": {},
     "output_type": "execute_result"
    },
    {
     "data": {
      "text/plain": [
       "<Figure size 3000x1500 with 0 Axes>"
      ]
     },
     "metadata": {},
     "output_type": "display_data"
    },
    {
     "data": {
      "image/png": "[encoded data removed]",
      "text/plain": [
       "<Figure size 1000x800 with 1 Axes>"
      ]
     },
     "metadata": {},
     "output_type": "display_data"
    }
   ],
   "source": [
    "# t-sne\n",
    "n_components = 2\n",
    "random_seed = 0\n",
    "perp = 15\n",
    "fig = plt.figure(figsize=(30, 15))\n",
    "x_tsne = TSNE(n_components, random_state=random_seed, perplexity=perp).fit_transform(encodings.data.cpu().numpy())\n",
    "fig = plt.figure(figsize=(10 ,8))\n",
    "ax = fig.add_subplot(1, 1, 1)\n",
    "for i in np.unique(labels):\n",
    "    ax.scatter(x_tsne[labels==i, 0], x_tsne[labels==i, 1], label=str(i))\n",
    "ax.legend()\n",
    "ax.grid()\n",
    "ax.set_title(\"t-SNE of BYOL Latent Space on STL-10\")"
   ]
  },
  {
   "cell_type": "code",
   "execution_count": 53,
   "metadata": {},
   "outputs": [
    {
     "name": "stdout",
     "output_type": "stream",
     "text": [
      "loaded model from checkpoint, resuming training from epoch 24\n"
     ]
    }
   ],
   "source": [
    "# repeat with the pre-trained backbone model\n",
    "# load model\n",
    "use_pretrained = True  # flag to load pre-trained ImageNet backbone weights, will use later\n",
    "run_name = f'byol_cosine_pretrained_{use_pretrained}'\n",
    "save_dir = os.path.join('./', run_name)\n",
    "resnet = torchvision.models.resnet18()\n",
    "backbone = nn.Sequential(*list(resnet.children())[:-1])\n",
    "num_ftrs = backbone(torch.rand(1, 3, image_size, image_size)).view(-1).shape[-1]\n",
    "model = BYOL(backbone, num_ftrs, hidden_dim, out_dim, batch_norm=True)\n",
    "model.to(device)\n",
    "model.eval()\n",
    "_ = load_from_checkpoint(model, optimizer, device, save_dir=save_dir)"
   ]
  },
  {
   "cell_type": "markdown",
   "metadata": {},
   "source": [
    "### t-SNE - BYOL with Pre-trained Backbone\n",
    "---"
   ]
  },
  {
   "cell_type": "code",
   "execution_count": 54,
   "metadata": {},
   "outputs": [
    {
     "ename": "IndexError",
     "evalue": "boolean index did not match indexed array along dimension 0; dimension is 4864 but corresponding boolean dimension is 5000",
     "output_type": "error",
     "traceback": [
      "\u001b[0;31m---------------------------------------------------------------------------\u001b[0m",
      "\u001b[0;31mIndexError\u001b[0m                                Traceback (most recent call last)",
      "Cell \u001b[0;32mIn[54], line 11\u001b[0m\n\u001b[1;32m      9\u001b[0m ax \u001b[38;5;241m=\u001b[39m fig\u001b[38;5;241m.\u001b[39madd_subplot(\u001b[38;5;241m1\u001b[39m, \u001b[38;5;241m1\u001b[39m, \u001b[38;5;241m1\u001b[39m)\n\u001b[1;32m     10\u001b[0m \u001b[38;5;28;01mfor\u001b[39;00m i \u001b[38;5;129;01min\u001b[39;00m np\u001b[38;5;241m.\u001b[39munique(labels):\n\u001b[0;32m---> 11\u001b[0m     ax\u001b[38;5;241m.\u001b[39mscatter(\u001b[43mx_tsne\u001b[49m\u001b[43m[\u001b[49m\u001b[43mlabels\u001b[49m\u001b[38;5;241;43m==\u001b[39;49m\u001b[43mi\u001b[49m\u001b[43m,\u001b[49m\u001b[43m \u001b[49m\u001b[38;5;241;43m0\u001b[39;49m\u001b[43m]\u001b[49m, x_tsne[labels\u001b[38;5;241m==\u001b[39mi, \u001b[38;5;241m1\u001b[39m], label\u001b[38;5;241m=\u001b[39m\u001b[38;5;28mstr\u001b[39m(i))\n\u001b[1;32m     12\u001b[0m ax\u001b[38;5;241m.\u001b[39mlegend()\n\u001b[1;32m     13\u001b[0m ax\u001b[38;5;241m.\u001b[39mgrid()\n",
      "\u001b[0;31mIndexError\u001b[0m: boolean index did not match indexed array along dimension 0; dimension is 4864 but corresponding boolean dimension is 5000"
     ]
    },
    {
     "data": {
      "text/plain": [
       "<Figure size 3000x1500 with 0 Axes>"
      ]
     },
     "metadata": {},
     "output_type": "display_data"
    },
    {
     "data": {
      "image/png": "[encoded data removed]",
      "text/plain": [
       "<Figure size 1000x800 with 1 Axes>"
      ]
     },
     "metadata": {},
     "output_type": "display_data"
    }
   ],
   "source": [
    "# TODO: t-sne plot for the model with the pre-trained backbone\n",
    "# t-sne\n",
    "n_components = 2\n",
    "random_seed = 0\n",
    "perp = 15\n",
    "fig = plt.figure(figsize=(30, 15))\n",
    "x_tsne = TSNE(n_components, random_state=random_seed, perplexity=perp).fit_transform(encodings.data.cpu().numpy())\n",
    "fig = plt.figure(figsize=(10 ,8))\n",
    "ax = fig.add_subplot(1, 1, 1)\n",
    "for i in np.unique(labels):\n",
    "    ax.scatter(x_tsne[labels==i, 0], x_tsne[labels==i, 1], label=str(i))\n",
    "ax.legend()\n",
    "ax.grid()\n",
    "ax.set_title(\"t-SNE of BYOL Latent Space on STL-10 with pre-trained backbone\")"
   ]
  },
  {
   "cell_type": "markdown",
   "metadata": {},
   "source": [
    "## <img src=\"./assets/icons/code.png\" style=\"height:50px;display:inline\"> Task 7 - Using the Model for Linear Classification\n",
    "---\n",
    "* The standard benchmark to test the quality of self-supervised models is to extract represntations from the pre-trained model and train a linear classification model over these representations.\n",
    "    * **Question 7.1**: Ideally, if the self-supervised model is perfect, then what should happen to the data in the low-dimensional space which would make it applicable for linear classification?\n",
    "* Extract and collect the representations from the pre-trained model (with BatchNorm) for both the labeled training and test sets.\n",
    "* Scale the data with `StandardScaler()`.\n",
    "    * **Question 7.2**: Why is it important to scale the data before training?\n",
    "* Train a linear clasisfication model (`LogisticRegression`, from `scikit-learn') to classify the data (cross-entropy). Check the performance on the test data.\n",
    "* Repeat the process for the pre-trained model with the pre-trained backbone.\n",
    "    * **Question 7.3**: Which model is better? Why?"
   ]
  },
  {
   "cell_type": "code",
   "execution_count": 41,
   "metadata": {},
   "outputs": [
    {
     "name": "stdout",
     "output_type": "stream",
     "text": [
      "Files already downloaded and verified\n",
      "Files already downloaded and verified\n"
     ]
    }
   ],
   "source": [
    "train_ds = torchvision.datasets.STL10(\"./datasets/stl10\", download=True, split=\"train\", transform=transforms)\n",
    "train_dl = DataLoader(train_ds, batch_size=256, shuffle=True)\n",
    "\n",
    "test_ds = torchvision.datasets.STL10(\"./datasets/stl10\", download=True, split=\"test\", transform=transforms)\n",
    "test_dl = DataLoader(test_ds, batch_size=256, shuffle=False)"
   ]
  },
  {
   "cell_type": "markdown",
   "metadata": {},
   "source": [
    "### Linear Classification - BYOL from Scratch\n",
    "---"
   ]
  },
  {
   "cell_type": "code",
   "execution_count": 42,
   "metadata": {},
   "outputs": [
    {
     "name": "stdout",
     "output_type": "stream",
     "text": [
      "model checkpoint not found, training from scratch\n"
     ]
    }
   ],
   "source": [
    "# load model\n",
    "use_pretrained = True  # flag to load pre-trained ImageNet backbone weights, will use later\n",
    "run_name = f'byol_cosine_pretrained_{use_pretrained}'\n",
    "save_dir = os.path.join('./', run_name)\n",
    "resnet = torchvision.models.resnet18()\n",
    "backbone = nn.Sequential(*list(resnet.children())[:-1])\n",
    "num_ftrs = backbone(torch.rand(1, 3, image_size, image_size)).view(-1).shape[-1]\n",
    "model = BYOL(backbone, num_ftrs, hidden_dim, out_dim, batch_norm=True)\n",
    "model.to(device)\n",
    "_ = load_from_checkpoint(model, optimizer, device, save_dir=save_dir)\n",
    "model.eval();"
   ]
  },
  {
   "cell_type": "code",
   "execution_count": 43,
   "metadata": {},
   "outputs": [
    {
     "name": "stdout",
     "output_type": "stream",
     "text": [
      "torch.Size([5000, 512])\n"
     ]
    }
   ],
   "source": [
    "# fitting a linear classifiers\n",
    "# get all encodings for the train data\n",
    "train_data = []\n",
    "labels = []\n",
    "for batch in train_dl:\n",
    "    x = batch[0].to(device)\n",
    "    labels.append(batch[1])\n",
    "    with torch.no_grad():\n",
    "        f = model.backbone(x).flatten(start_dim=1) # TODO: extract representation from the model\n",
    "        z = f\n",
    "        train_data.append(z)\n",
    "train_data = torch.cat(train_data, dim=0)\n",
    "labels = torch.cat(labels, dim=0)\n",
    "print(train_data.shape)"
   ]
  },
  {
   "cell_type": "code",
   "execution_count": 44,
   "metadata": {},
   "outputs": [
    {
     "name": "stdout",
     "output_type": "stream",
     "text": [
      "torch.Size([8000, 512])\n"
     ]
    }
   ],
   "source": [
    "# get test data\n",
    "test_data = []\n",
    "labels_test = []\n",
    "for batch in test_dl:\n",
    "    x = batch[0].to(device)\n",
    "    labels_test.append(batch[1])\n",
    "    with torch.no_grad():\n",
    "        f = model.backbone(x).flatten(start_dim=1) # TODO: extract representation from the model\n",
    "        z = f\n",
    "        test_data.append(z)\n",
    "test_data = torch.cat(test_data, dim=0)\n",
    "labels_test = torch.cat(labels_test, dim=0)\n",
    "print(test_data.shape)"
   ]
  },
  {
   "cell_type": "code",
   "execution_count": 46,
   "metadata": {},
   "outputs": [],
   "source": [
    "# scale the data\n",
    "scaler = StandardScaler()\n",
    "train_data_scaled = scaler.fit_transform(train_data.data.cpu().numpy())# TODO\n",
    "test_data_scaled = scaler.transform(test_data.data.cpu().numpy()) # TODO"
   ]
  },
  {
   "cell_type": "code",
   "execution_count": 47,
   "metadata": {},
   "outputs": [],
   "source": [
    "# logistic regression classifier\n",
    "random_state = 42\n",
    "lin_cls = LogisticRegression(random_state=random_state, solver='lbfgs', max_iter=100000, multi_class=\"multinomial\")"
   ]
  },
  {
   "cell_type": "code",
   "execution_count": 50,
   "metadata": {},
   "outputs": [
    {
     "name": "stdout",
     "output_type": "stream",
     "text": [
      "train acc: 0.675, test acc: 0.333\n"
     ]
    }
   ],
   "source": [
    "# fit linear classifier\n",
    "lin_cls.fit(train_data_scaled, labels.data.cpu().numpy())  # TODO\n",
    "lin_cls_pred = lin_cls.predict(train_data_scaled)  # TODO: prediction on training data\n",
    "lin_cls_train_acc = accuracy_score(lin_cls_pred, labels.data.cpu().numpy())  # train accuracy\n",
    "lin_cls_test_pred = lin_cls.predict(test_data_scaled)  # TODO: prediction on test data\n",
    "lin_cls_test_acc = accuracy_score(lin_cls_test_pred, labels_test.data.cpu().numpy())  # test accuracy\n",
    "print(\"train acc: {:.3f}, test acc: {:.3f}\".format(lin_cls_train_acc, lin_cls_test_acc))"
   ]
  },
  {
   "cell_type": "markdown",
   "metadata": {},
   "source": [
    "### Linear Classification - BYOL with Pre-trained Backbone\n",
    "---"
   ]
  },
  {
   "cell_type": "code",
   "execution_count": null,
   "metadata": {},
   "outputs": [],
   "source": [
    "# repeat for pre-trained backbone\n",
    "# load model\n",
    "use_pretrained = True  # flag to load pre-trained ImageNet backbone weights, will use later\n",
    "run_name = f'byol_cosine_pretrained_{use_pretrained}'\n",
    "save_dir = os.path.join('./', run_name)\n",
    "# TODO: load model, extract train and test representations (same `train_dl` and `test_dl`), fit linear classifier\n",
    "resnet = torchvision.models.resnet18()\n",
    "backbone = nn.Sequential(*list(resnet.children())[:-1])\n",
    "num_ftrs = backbone(torch.rand(1, 3, image_size, image_size)).view(-1).shape[-1]\n",
    "model = BYOL(backbone, num_ftrs, hidden_dim, out_dim, batch_norm=True)\n",
    "model.to(device)\n",
    "_ = load_from_checkpoint(model, optimizer, device, save_dir=save_dir)\n",
    "model.eval();\n"
   ]
  },
  {
   "cell_type": "code",
   "execution_count": null,
   "metadata": {},
   "outputs": [
    {
     "name": "stdout",
     "output_type": "stream",
     "text": [
      "torch.Size([5000, 512])\n"
     ]
    }
   ],
   "source": [
    "# fitting a linear classifiers\n",
    "# get all encodings for the train data\n",
    "train_data = []\n",
    "labels = []\n",
    "for batch in train_dl:\n",
    "    x = batch[0].to(device)\n",
    "    labels.append(batch[1])\n",
    "    with torch.no_grad():\n",
    "        f = model.backbone(x).flatten(start_dim=1) # TODO: extract representation from the model\n",
    "        z = f\n",
    "        train_data.append(z)\n",
    "train_data = torch.cat(train_data, dim=0)\n",
    "labels = torch.cat(labels, dim=0)\n",
    "print(train_data.shape)"
   ]
  },
  {
   "cell_type": "code",
   "execution_count": null,
   "metadata": {},
   "outputs": [
    {
     "name": "stdout",
     "output_type": "stream",
     "text": [
      "torch.Size([8000, 512])\n"
     ]
    }
   ],
   "source": [
    "# get test data\n",
    "test_data = []\n",
    "labels_test = []\n",
    "for batch in test_dl:\n",
    "    x = batch[0].to(device)\n",
    "    labels_test.append(batch[1])\n",
    "    with torch.no_grad():\n",
    "        f = model.backbone(x).flatten(start_dim=1) # TODO: extract representation from the model\n",
    "        z = f\n",
    "        test_data.append(z)\n",
    "test_data = torch.cat(test_data, dim=0)\n",
    "labels_test = torch.cat(labels_test, dim=0)\n",
    "print(test_data.shape)"
   ]
  },
  {
   "cell_type": "code",
   "execution_count": null,
   "metadata": {},
   "outputs": [],
   "source": [
    "# scale the data\n",
    "scaler = StandardScaler()\n",
    "train_data_scaled = scaler.fit_transform(train_data.data.cpu().numpy())# TODO\n",
    "test_data_scaled = scaler.transform(test_data.data.cpu().numpy()) # TODO"
   ]
  },
  {
   "cell_type": "code",
   "execution_count": null,
   "metadata": {},
   "outputs": [],
   "source": [
    "# logistic regression classifier\n",
    "random_state = 42\n",
    "lin_cls = LogisticRegression(random_state=random_state, solver='lbfgs', max_iter=100000, multi_class=\"multinomial\")"
   ]
  },
  {
   "cell_type": "code",
   "execution_count": null,
   "metadata": {},
   "outputs": [
    {
     "name": "stdout",
     "output_type": "stream",
     "text": [
      "train acc: 0.675, test acc: 0.333\n"
     ]
    }
   ],
   "source": [
    "# fit linear classifier\n",
    "lin_cls.fit(train_data_scaled, labels.data.cpu().numpy())  # TODO\n",
    "lin_cls_pred = lin_cls.predict(train_data_scaled)  # TODO: prediction on training data\n",
    "lin_cls_train_acc = accuracy_score(lin_cls_pred, labels.data.cpu().numpy())  # train accuracy\n",
    "lin_cls_test_pred = lin_cls.predict(test_data_scaled)  # TODO: prediction on test data\n",
    "lin_cls_test_acc = accuracy_score(lin_cls_test_pred, labels_test.data.cpu().numpy())  # test accuracy\n",
    "print(\"train acc: {:.3f}, test acc: {:.3f}\".format(lin_cls_train_acc, lin_cls_test_acc))"
   ]
  },
  {
   "cell_type": "markdown",
   "metadata": {
    "slideshow": {
     "slide_type": "skip"
    }
   },
   "source": [
    "## <img src=\"./assets/icons/prize.png\" style=\"height:50px;display:inline\"> Credits\n",
    "---\n",
    "* Icons from <a href=\"https://icons8.com/\">Icons8.com</a> - https://icons8.com"
   ]
  }
 ],
 "metadata": {
  "kernelspec": {
   "display_name": "Python 3",
   "language": "python",
   "name": "python3"
  },
  "language_info": {
   "codemirror_mode": {
    "name": "ipython",
    "version": 3
   },
   "file_extension": ".py",
   "mimetype": "text/x-python",
   "name": "python",
   "nbconvert_exporter": "python",
   "pygments_lexer": "ipython3",
   "version": "3.11.7"
  }
 },
 "nbformat": 4,
 "nbformat_minor": 4
}
