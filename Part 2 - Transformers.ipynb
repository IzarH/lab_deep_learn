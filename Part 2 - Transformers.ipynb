{
 "cells": [
  {
   "cell_type": "markdown",
   "metadata": {},
   "source": [
    "# Language Transformers for IMDB Reviews"
   ]
  },
  {
   "cell_type": "code",
   "execution_count": 43,
   "metadata": {},
   "outputs": [],
   "source": [
    "import torch\n",
    "import torch.nn as nn\n",
    "from torch.utils.data import DataLoader, dataset\n",
    "from torch.nn.utils.rnn import pad_sequence\n",
    "\n",
    "from torchtext.datasets import IMDB\n",
    "from torchtext.vocab import build_vocab_from_iterator \n",
    "from torchtext.data.utils import get_tokenizer\n",
    "from torchtext.data.functional import to_map_style_dataset\n",
    "\n",
    "import matplotlib.pyplot as plt\n",
    "import numpy as np"
   ]
  },
  {
   "cell_type": "markdown",
   "metadata": {},
   "source": [
    "Get data"
   ]
  },
  {
   "cell_type": "code",
   "execution_count": 44,
   "metadata": {},
   "outputs": [
    {
     "name": "stdout",
     "output_type": "stream",
     "text": [
      "Size of the train set:  22500\n",
      "Size of the validation set :  2500\n",
      "Size of the test set:  25000\n"
     ]
    }
   ],
   "source": [
    "# Get train and test datasets of IMDB reviews\n",
    "train_iter, test_iter = IMDB(split=('train', 'test'))\n",
    "\n",
    "# Convert iterable-style dataset to map-style dataset\n",
    "train_dataset = to_map_style_dataset(train_iter)\n",
    "test_dataset = to_map_style_dataset(test_iter)\n",
    "\n",
    "# Split the train data to train and validation\n",
    "g = torch.Generator().manual_seed(0)\n",
    "split_percentage = 0.9\n",
    "num_train = int(len(train_dataset) * split_percentage)\n",
    "train_dataset, validation_dataset = dataset.random_split(train_dataset, [num_train, len(train_dataset) - num_train], generator=g)\n",
    "\n",
    "print('Size of the train set: ', len(train_dataset))\n",
    "print('Size of the validation set : ', len(validation_dataset))\n",
    "print('Size of the test set: ', len(test_dataset))"
   ]
  },
  {
   "cell_type": "code",
   "execution_count": 45,
   "metadata": {},
   "outputs": [
    {
     "name": "stdout",
     "output_type": "stream",
     "text": [
      "label:  2\n",
      "%--------Original sentence--------%\n",
      "Perhaps the funniest 'backstage at Hollywood' movie ever, especially for a look at comedy short factories like Keystone.<br /><br />Marion Davies should get a medal for bravery for taking a part where acting poorly in front of a camera is part of the role. Plenty of cameos for film buffs.\n",
      "\n",
      "%--------Tokenized sentence--------%\n",
      "['perhaps', 'the', 'funniest', \"'\", 'backstage', 'at', 'hollywood', \"'\", 'movie', 'ever', ',', 'especially', 'for', 'a', 'look', 'at', 'comedy', 'short', 'factories', 'like', 'keystone', '.', 'marion', 'davies', 'should', 'get', 'a', 'medal', 'for', 'bravery', 'for', 'taking', 'a', 'part', 'where', 'acting', 'poorly', 'in', 'front', 'of', 'a', 'camera', 'is', 'part', 'of', 'the', 'role', '.', 'plenty', 'of', 'cameos', 'for', 'film', 'buffs', '.']\n"
     ]
    }
   ],
   "source": [
    "# Get tokenizer\n",
    "tokenizer = get_tokenizer(\"basic_english\") \n",
    "\n",
    "# TODO: Choose sentences to see their tokenization\n",
    "ind = 7\n",
    "\n",
    "print(\"label: \", train_dataset[ind][0])\n",
    "print('%--------Original sentence--------%')\n",
    "print(train_dataset[ind][1])\n",
    "print('\\n%--------Tokenized sentence--------%')\n",
    "print(tokenizer(train_dataset[ind][1]))"
   ]
  },
  {
   "cell_type": "markdown",
   "metadata": {},
   "source": [
    "Build a vocabulary"
   ]
  },
  {
   "cell_type": "code",
   "execution_count": 46,
   "metadata": {},
   "outputs": [
    {
     "name": "stdout",
     "output_type": "stream",
     "text": [
      "Size of the vocabulary:  50000\n"
     ]
    }
   ],
   "source": [
    "# Set the maximal number of distinct tokens in the vocabulary\n",
    "max_num_tokens = int(5e4)\n",
    "\n",
    "# Define an iterator that yields the tokens\n",
    "def yield_tokens(data_iter):\n",
    "    for _, text in data_iter:\n",
    "        yield tokenizer(text) \n",
    "\n",
    "# Define a function that build a vocabulary from dataset\n",
    "def get_vocab(train_datapipe, _max_tokens=None): \n",
    "    vocab = build_vocab_from_iterator(yield_tokens(train_datapipe), specials=[\"<pad>\",\"<unk>\"], max_tokens=_max_tokens)\n",
    "    vocab.set_default_index(vocab[\"<unk>\"]) \n",
    "    return vocab\n",
    "\n",
    "# Get the vocabulary for the IMDB training set\n",
    "vocab = get_vocab(train_iter, max_num_tokens)\n",
    "\n",
    "print('Size of the vocabulary: ', len(vocab))"
   ]
  },
  {
   "cell_type": "code",
   "execution_count": 47,
   "metadata": {},
   "outputs": [
    {
     "data": {
      "text/plain": [
       "0"
      ]
     },
     "execution_count": 47,
     "metadata": {},
     "output_type": "execute_result"
    }
   ],
   "source": [
    "vocab[\"<pad>\"]"
   ]
  },
  {
   "cell_type": "markdown",
   "metadata": {},
   "source": [
    "Define a function that tokenize a batch on the fly during training"
   ]
  },
  {
   "cell_type": "code",
   "execution_count": 48,
   "metadata": {},
   "outputs": [],
   "source": [
    "# Define a function that gets a batch of reviews with labels and tokenize them\n",
    "def collate_batch(batch):\n",
    "\n",
    "    # Initialize lists for labels and text for the reviews\n",
    "    label_list, text_list = [], []\n",
    "  \n",
    "    for (_label, _text) in batch: # for each review in the batch\n",
    "        label_list.append(_label-1) # Change the labels from {1,2} to {0,1} for binary classification and append it to the list\n",
    "        tokens = tokenizer(_text) # Get the tokens for the current review\n",
    "        tokens_indices = torch.LongTensor(vocab(tokens)) # Get the indices of the tokens in type 'Long'\n",
    "        text_list.append(tokens_indices) # Append the indices of the tokes to the list, note that for each review the number of tokens can be different\n",
    "\n",
    "    # Convert the list of labels to torch Tensor of type 'Long'\n",
    "    labels = torch.LongTensor(label_list)\n",
    "    \n",
    "    # TODO: Pad all the reviews to the same length to form a torch Tensor of samples.\n",
    "    # Use the pad_sequence of torchtext and set padding_value properly. Note that batch_first should be true\n",
    "    samples = pad_sequence(text_list, True, 0)\n",
    "\n",
    "    # Return the samples and their corresponding labels\n",
    "    return labels, samples"
   ]
  },
  {
   "cell_type": "markdown",
   "metadata": {},
   "source": [
    "Define the dataloaders for the training, validation and test sets"
   ]
  },
  {
   "cell_type": "code",
   "execution_count": 49,
   "metadata": {},
   "outputs": [],
   "source": [
    "batch_size = 16\n",
    "num_workers = 4\n",
    "train_dataloader = DataLoader(train_dataset, num_workers=num_workers, persistent_workers=True, batch_size=batch_size, shuffle=True, collate_fn=collate_batch, drop_last=True)\n",
    "validation_dataloader = DataLoader(validation_dataset, num_workers=num_workers, persistent_workers=True, batch_size=batch_size, shuffle=False, collate_fn=collate_batch, drop_last=False)\n",
    "test_dataloader = DataLoader(test_dataset, batch_size=batch_size, shuffle=False, collate_fn=collate_batch, drop_last=False)"
   ]
  },
  {
   "cell_type": "markdown",
   "metadata": {},
   "source": [
    "To the initial input of the network we add positional encoding, such that the attention mechanism will know from which location in the sequence (text) the token is. "
   ]
  },
  {
   "cell_type": "code",
   "execution_count": 50,
   "metadata": {},
   "outputs": [],
   "source": [
    "class PositionalEncoding(nn.Module):\n",
    "    def __init__(self, num_hiddens, dropout, max_len=1000):\n",
    "        super(PositionalEncoding, self).__init__()\n",
    "        self.dropout = nn.Dropout(dropout)\n",
    "\n",
    "        # Create a long enough `P`\n",
    "        self.register_buffer('P', torch.zeros((1, max_len, num_hiddens)))\n",
    "\n",
    "        X = torch.arange(0, max_len, dtype=torch.float32).unsqueeze(1)\n",
    "        # X = i\n",
    "        # max_len = l\n",
    "        # TODO: Compute the argument of the sine and cosine with the formula given in the preparation\n",
    "        J = torch.arange(0, int((num_hiddens-1)/2) + 1, dtype=torch.float32).unsqueeze(0)\n",
    "        X = X / (10000**(2*J/num_hiddens))\n",
    "        \n",
    "        # The even entries of P get sine while the odd get cosine\n",
    "        self.P[:, :, 0::2] = torch.sin(X)\n",
    "        self.P[:, :, 1::2] = torch.cos(X)\n",
    "\n",
    "    def forward(self, X):\n",
    "        X = X + self.P[:, :X.shape[1], :]\n",
    "        return self.dropout(X)"
   ]
  },
  {
   "cell_type": "code",
   "execution_count": 51,
   "metadata": {},
   "outputs": [
    {
     "name": "stdout",
     "output_type": "stream",
     "text": [
      "torch.Size([1000, 1])\n",
      "torch.Size([1, 10])\n"
     ]
    },
    {
     "data": {
      "text/plain": [
       "tensor([[0.0000e+00, 0.0000e+00, 0.0000e+00,  ..., 0.0000e+00, 0.0000e+00,\n",
       "         0.0000e+00],\n",
       "        [1.0000e+00, 3.9811e-01, 1.5849e-01,  ..., 1.5849e-03, 6.3096e-04,\n",
       "         2.5119e-04],\n",
       "        [2.0000e+00, 7.9621e-01, 3.1698e-01,  ..., 3.1698e-03, 1.2619e-03,\n",
       "         5.0238e-04],\n",
       "        ...,\n",
       "        [9.9700e+02, 3.9691e+02, 1.5801e+02,  ..., 1.5801e+00, 6.2906e-01,\n",
       "         2.5044e-01],\n",
       "        [9.9800e+02, 3.9731e+02, 1.5817e+02,  ..., 1.5817e+00, 6.2970e-01,\n",
       "         2.5069e-01],\n",
       "        [9.9900e+02, 3.9771e+02, 1.5833e+02,  ..., 1.5833e+00, 6.3033e-01,\n",
       "         2.5094e-01]])"
      ]
     },
     "execution_count": 51,
     "metadata": {},
     "output_type": "execute_result"
    }
   ],
   "source": [
    "num_hiddens=20\n",
    "max_len=1000\n",
    "X = torch.arange(0, max_len, dtype=torch.float32).unsqueeze(1)\n",
    "print(X.shape)\n",
    "\n",
    "J= torch.arange(0, int((num_hiddens-1)/2) + 1, dtype=torch.float32).unsqueeze(0)\n",
    "print(J.shape)\n",
    "X / (10000**(2*J/num_hiddens))"
   ]
  },
  {
   "cell_type": "markdown",
   "metadata": {},
   "source": [
    "Example for positional encoding"
   ]
  },
  {
   "cell_type": "code",
   "execution_count": 52,
   "metadata": {},
   "outputs": [
    {
     "data": {
      "image/png": "[encoded data removed]",
      "text/plain": [
       "<Figure size 800x400 with 1 Axes>"
      ]
     },
     "metadata": {},
     "output_type": "display_data"
    }
   ],
   "source": [
    "\"\"\"\n",
    "Test the PositionalEncoding class with a toy model for 4 dimensions. \n",
    "The  1st  dimension has the same frequency as the 2nd but with different offset (i.e. phase)\n",
    "because one is produced by a sine function and the other is produced by a cosine function. \n",
    "The  3rd  and  4th  dimensions have higher frequency.\n",
    "\"\"\"\n",
    "num_hiddens = 20\n",
    "pe = PositionalEncoding(num_hiddens=num_hiddens, dropout=0, max_len=100)\n",
    "pe.eval()\n",
    "Y = pe(torch.zeros((1, 100, num_hiddens))).cpu().numpy()  # 1 example, 100 tokens with embedding dim of 20\n",
    "fig = plt.figure(figsize=(8, 4))\n",
    "ax = fig.add_subplot(111)\n",
    "for p in [4,5,6,7]:\n",
    "    ax.plot(np.arange(100), Y[0, :, p].T, label=f'dim {p}')\n",
    "ax.legend()\n",
    "ax.grid()"
   ]
  },
  {
   "cell_type": "markdown",
   "metadata": {},
   "source": [
    "Define the embeddings of the tokens in the vocabulary"
   ]
  },
  {
   "cell_type": "code",
   "execution_count": 53,
   "metadata": {},
   "outputs": [],
   "source": [
    "# Embeddings class: sequences -> features\n",
    "class Embeddings(nn.Module):\n",
    "    def __init__(self, d_model, vocab_size, max_position_embeddings, dropout=0):\n",
    "        super().__init__()\n",
    "\n",
    "        # Attach parameters to the module\n",
    "        self.dropout = dropout\n",
    "        self.d_model = d_model\n",
    "\n",
    "        # TODO: Create the embeddings for the tokens in the vocabulary and set the padding_idx to 0, which is vocab['<pad>']\n",
    "        self.word_embeddings = torch.nn.Embedding(vocab_size,d_model,padding_idx=0)\n",
    "\n",
    "        # TODO: Create the positional encoding layer, note that num_hiddens=d_model\n",
    "        self.position_encoding = PositionalEncoding(num_hiddens=d_model, dropout=dropout, max_len=max_position_embeddings)\n",
    "\n",
    "        # Create a normalization layer\n",
    "        self.LayerNorm = nn.LayerNorm(d_model, eps=1e-12)\n",
    "\n",
    "    def forward(self, input_ids):\n",
    "\n",
    "        # TODO: Get word embeddings for each input id\n",
    "        word_embeddings = self.word_embeddings(input_ids)\n",
    "        \n",
    "        # TODO: Add positional encoding to the word embeddings\n",
    "        embeddings_with_encoding = self.position_encoding(word_embeddings)\n",
    "        \n",
    "        # Normalize the embeddings\n",
    "        embeddings = self.LayerNorm(embeddings_with_encoding)\n",
    "        return embeddings"
   ]
  },
  {
   "cell_type": "markdown",
   "metadata": {},
   "source": [
    "Define a layer for multi-head attention"
   ]
  },
  {
   "cell_type": "code",
   "execution_count": 54,
   "metadata": {},
   "outputs": [],
   "source": [
    "class MultiHeadAttention(nn.Module):\n",
    "    def __init__(self, d_model, num_heads, dropout, d_input=None):\n",
    "        super().__init__()\n",
    "        self.num_heads = num_heads\n",
    "        self.d_model = d_model\n",
    "        if d_input is None:\n",
    "            d_xq = d_xk = d_xv = d_model\n",
    "        else:\n",
    "            d_xq, d_xk, d_xv = d_input\n",
    "            \n",
    "        # Make sure that the embedding dimension of model is a multiple of number of heads\n",
    "        assert d_model % self.num_heads == 0\n",
    "\n",
    "        # each head has hidden dimension d_k\n",
    "        self.d_k = d_model // self.num_heads # here d is divided between the heads\n",
    "        \n",
    "        # These are still of dimension d_model. They will be split into number of heads \n",
    "        self.W_q = nn.Linear(d_xq, d_model, bias=False)\n",
    "        self.W_k = nn.Linear(d_xk, d_model, bias=False)\n",
    "        self.W_v = nn.Linear(d_xv, d_model, bias=False)\n",
    "        \n",
    "        # Outputs of all sub-layers need to be of dimension d_model\n",
    "        self.W_h = nn.Linear(d_model, d_model)\n",
    "        \n",
    "        self.dropout = nn.Dropout(dropout)\n",
    "\n",
    "        # Softmax\n",
    "        self.softmax = nn.Softmax(dim=3)\n",
    "        \n",
    "    def scaled_dot_product_attention(self, Q, K, V):\n",
    "        \n",
    "        # TODO: Get the matching scores between the quarries and keys.\n",
    "        # Note that the dimension of Q are (bs, n_heads, q_length, dim_per_head),\n",
    "        # and the dimension of K are (bs, n_heads, k_length, dim_per_head).\n",
    "        scores = K.transpose(2,3)@Q\n",
    "        \n",
    "        # Divide the scores by square root of d_k, so that the soft(arg)max doesn't saturate\n",
    "        scores = scores.div(np.sqrt(self.d_k))\n",
    "\n",
    "        # TODO: Apply softmax to the scores to get the attention map A\n",
    "        A = self.softmax(scores)\n",
    "\n",
    "        # Apply dropout to attention map A\n",
    "        A = self.dropout(A)\n",
    "        \n",
    "        # TODO:  Get the weighted average of the values V using the attention map A\n",
    "        H = V@A\n",
    "\n",
    "        return H, A \n",
    "\n",
    "        \n",
    "    def split_heads(self, x, batch_size):\n",
    "        \"\"\" Split the last dimension into (heads X depth)\n",
    "            Return after transpose to put in shape (batch_size X num_heads X seq_length X d_k) \"\"\"\n",
    "        return x.view(batch_size, -1, self.num_heads, self.d_k).transpose(1, 2)\n",
    "\n",
    "\n",
    "    def group_heads(self, x, batch_size):\n",
    "        \"\"\" Combine the heads again to get (batch_size X seq_length X (num_heads times d_k)) \"\"\"\n",
    "        return x.transpose(1, 2).contiguous().view(batch_size, -1, self.num_heads * self.d_k)\n",
    "    \n",
    "\n",
    "    def forward(self, X_q, X_k, X_v):\n",
    "        batch_size = X_q.shape[0]\n",
    "\n",
    "        # After transforming, split into num_heads \n",
    "        Q = self.split_heads(self.W_q(X_q), batch_size)  # (bs, n_heads, q_length, dim_per_head)\n",
    "        K = self.split_heads(self.W_k(X_k), batch_size)  # (bs, n_heads, k_length, dim_per_head)\n",
    "        V = self.split_heads(self.W_v(X_v), batch_size)  # (bs, n_heads, v_length, dim_per_head)\n",
    "        \n",
    "        # Calculate the attention weights for each of the heads\n",
    "        H_cat, A = self.scaled_dot_product_attention(Q, K, V)\n",
    "        \n",
    "        # Put all the heads back together by concat\n",
    "        H_cat = self.group_heads(H_cat, batch_size)\n",
    "        \n",
    "        # Final linear layer\n",
    "        H = self.W_h(H_cat)\n",
    "        \n",
    "        return H, A"
   ]
  },
  {
   "cell_type": "markdown",
   "metadata": {},
   "source": [
    "#### Self-Attention Sanity Check\n",
    "\n",
    "If the query matches with one of the key values, it should have all the attention focused there, with the value returned as the value at that index."
   ]
  },
  {
   "cell_type": "code",
   "execution_count": 55,
   "metadata": {},
   "outputs": [
    {
     "name": "stdout",
     "output_type": "stream",
     "text": [
      "Values are:\n",
      " tensor([[-0.3170,  0.6137,  0.6825,  ..., -0.6443, -0.4211,  0.3704],\n",
      "        [ 0.5378,  1.2864,  0.3646,  ..., -0.7596,  0.8870, -1.3230],\n",
      "        [ 0.2429, -0.6758, -0.0179,  ..., -0.8331, -1.1670, -1.5273],\n",
      "        ...,\n",
      "        [-1.8904, -0.5903,  1.3053,  ..., -0.3233,  1.5448,  0.5697],\n",
      "        [ 0.2101,  0.3405,  0.5070,  ..., -0.1221, -0.2632,  0.5185],\n",
      "        [ 0.4353,  1.2919,  0.0177,  ...,  0.2559,  0.4372, -0.6210]])\n",
      "Attention weights are:\n",
      " tensor([[1., 0., 0.,  ..., 0., 0., 0.],\n",
      "        [0., 1., 0.,  ..., 0., 0., 0.],\n",
      "        [0., 0., 1.,  ..., 0., 0., 0.],\n",
      "        ...,\n",
      "        [0., 0., 0.,  ..., 1., 0., 0.],\n",
      "        [0., 0., 0.,  ..., 0., 1., 0.],\n",
      "        [0., 0., 0.,  ..., 0., 0., 1.]])\n",
      "Output is:\n",
      " tensor([[-0.3170,  0.6137,  0.6825,  ..., -0.6443, -0.4211,  0.3704],\n",
      "        [ 0.5378,  1.2864,  0.3646,  ..., -0.7596,  0.8870, -1.3230],\n",
      "        [ 0.2429, -0.6758, -0.0179,  ..., -0.8331, -1.1670, -1.5273],\n",
      "        ...,\n",
      "        [-1.8904, -0.5903,  1.3053,  ..., -0.3233,  1.5448,  0.5697],\n",
      "        [ 0.2101,  0.3405,  0.5070,  ..., -0.1221, -0.2632,  0.5185],\n",
      "        [ 0.4353,  1.2919,  0.0177,  ...,  0.2559,  0.4372, -0.6210]])\n"
     ]
    }
   ],
   "source": [
    "# Set the dimension d\n",
    "d = 512\n",
    "\n",
    "# TODO: Create a multi-head attention layer with dimension d, 8 heads and with no dropout\n",
    "temp_mha = MultiHeadAttention(d_model=d, num_heads=8, dropout=0)\n",
    "\n",
    "# Create a random orthogonal matrix U s.t. U^T U = U U^T = I\n",
    "U, S, Rh = torch.linalg.svd(torch.randn(d,d))\n",
    "\n",
    "# Set the keys and quarries to be U\n",
    "test_Q = test_K = d*U[None, None]\n",
    "\n",
    "# Create random values\n",
    "V = torch.randn(d,d)\n",
    "test_V = V[None, None]\n",
    "\n",
    "temp_out, temp_attn = temp_mha.scaled_dot_product_attention(test_Q, test_K, test_V)\n",
    "print('Values are:\\n', V)\n",
    "print('Attention weights are:\\n', temp_attn.squeeze())\n",
    "print('Output is:\\n', temp_out.squeeze())"
   ]
  },
  {
   "cell_type": "markdown",
   "metadata": {},
   "source": [
    "After attention we use a feed forward network, usually multi-layer perceptron (MLP)"
   ]
  },
  {
   "cell_type": "code",
   "execution_count": 56,
   "metadata": {},
   "outputs": [],
   "source": [
    "class FFN(nn.Module):\n",
    "    \"\"\" Feed Forward Network (FFN): an MLP with one hidden layer and ReLU activation applied to each and every element in the set. \"\"\"\n",
    "    def __init__(self, d_model, hidden_dim):\n",
    "        super().__init__()\n",
    "        self.Layer1 = nn.Linear(d_model, hidden_dim)\n",
    "        self.Layer2 = nn.Linear(hidden_dim, d_model)\n",
    "        self.activation = nn.ReLU()\n",
    "\n",
    "    def forward(self, x):\n",
    "        x = self.Layer1(x)\n",
    "        x = self.activation(x)\n",
    "        x = self.Layer2(x)\n",
    "        return x"
   ]
  },
  {
   "cell_type": "markdown",
   "metadata": {},
   "source": [
    "Now we are ready to define the standard block of the encoder transformer"
   ]
  },
  {
   "cell_type": "code",
   "execution_count": 57,
   "metadata": {},
   "outputs": [],
   "source": [
    "class EncoderBlock(nn.Module):\n",
    "    def __init__(self, d_model, num_heads, conv_hidden_dim, dropout=0.1):\n",
    "        super().__init__()\n",
    "        \n",
    "        # Attach parameter to the module\n",
    "        self.dropout = dropout\n",
    "\n",
    "        # Create the multi-head attention layer\n",
    "        self.mha = MultiHeadAttention(d_model, num_heads, dropout=dropout)\n",
    "\n",
    "        # Create the feed-forward neural network \n",
    "        self.ffn = FFN(d_model, conv_hidden_dim)\n",
    "\n",
    "        # Create the normalization layers\n",
    "        self.layernorm1 = nn.LayerNorm(normalized_shape=d_model, eps=1e-6)\n",
    "        self.layernorm2 = nn.LayerNorm(normalized_shape=d_model, eps=1e-6)\n",
    "\n",
    "\n",
    "        \n",
    "    \n",
    "    def forward(self, x):\n",
    "        \n",
    "        # TODO:Apply multi-head *self*-attention, note that the attention maps can be discarded \n",
    "        attn_output, _ = self.mha(x,x,x)\n",
    "\n",
    "        # TODO: Layer norm after adding the residual connection\n",
    "        out1 = self.layernorm1(attn_output + x)\n",
    "        \n",
    "        # TODO: Apply a feed forward network\n",
    "        ffn_output = self.ffn(out1)\n",
    "        \n",
    "        # TODO: Apply a second layer norm after adding residual connection \n",
    "        out2 = self.layernorm2(ffn_output + out1)\n",
    "\n",
    "        return out2"
   ]
  },
  {
   "cell_type": "markdown",
   "metadata": {},
   "source": [
    "Using the blocks above we define the transformer encoder"
   ]
  },
  {
   "cell_type": "code",
   "execution_count": 58,
   "metadata": {},
   "outputs": [],
   "source": [
    "\n",
    "class TransformerEncoder(nn.Module):\n",
    "    def __init__(self, num_layers, d_model, num_heads, ff_hidden_dim, input_vocab_size,\n",
    "               maximum_position_encoding, dropout=0.1):\n",
    "        super().__init__()\n",
    "\n",
    "        # Attach parameters to the module\n",
    "        self.d_model = d_model\n",
    "        self.num_layers = num_layers\n",
    "        self.dropout = dropout\n",
    "\n",
    "        # Create the embedding layer\n",
    "        self.embedding = Embeddings(d_model, input_vocab_size,maximum_position_encoding, dropout)\n",
    "\n",
    "        # Create the encoder blocks \n",
    "        self.enc_layers = nn.ModuleList()\n",
    "        for _ in range(num_layers):\n",
    "            self.enc_layers.append(EncoderBlock(d_model, num_heads, ff_hidden_dim, self.dropout))\n",
    "        \n",
    "    def forward(self, x):\n",
    "        x = self.embedding(x) # Transform to (batch_size, input_seq_length, d_model)\n",
    "\n",
    "        for i in range(self.num_layers):\n",
    "            x = self.enc_layers[i](x)\n",
    "\n",
    "        return x  # (batch_size, input_seq_len, d_model)"
   ]
  },
  {
   "cell_type": "markdown",
   "metadata": {},
   "source": [
    "Finally we define the transformer classifier for sentiment analysis"
   ]
  },
  {
   "cell_type": "code",
   "execution_count": 59,
   "metadata": {},
   "outputs": [],
   "source": [
    "class TransformerClassifier(nn.Module):\n",
    "    def __init__(self, num_layers, d_model, num_heads, conv_hidden_dim, input_vocab_size, num_answers):\n",
    "        super().__init__()\n",
    "        \n",
    "        self.encoder = TransformerEncoder(num_layers, d_model, num_heads, conv_hidden_dim, input_vocab_size,\n",
    "                                          maximum_position_encoding=10000)\n",
    "        self.dense = nn.Linear(d_model, num_answers)\n",
    "\n",
    "    def forward(self, x):\n",
    "        \n",
    "        # Process the sequence\n",
    "        x = self.encoder(x)  # [batch_size, seq_len, d_model]\n",
    "\n",
    "        # Get a final value from the sequence in a form of a mean value\n",
    "        x = x.mean(dim=1) # [batch_size, d_model]\n",
    "\n",
    "        #----------------Alternatives for taking the mean----------------#\n",
    "        # Taking the maximum value\n",
    "        # x, _ = torch.max(x, dim=1)\n",
    "\n",
    "        # Taking the dominant value\n",
    "        # _ , inds_abs = torch.max(x.abs(), dim=1)\n",
    "        # x = torch.gather(x, dim=1, index=inds_abs.unsqueeze(1)).squeeze()\n",
    "\n",
    "        # Taking the last value of the sequence, which should hold the information\n",
    "        # x = x[:, -1]\n",
    "\n",
    "        # Classify according to the final value\n",
    "        x = self.dense(x)  # [batch_size, num_answers]\n",
    "        \n",
    "        return x"
   ]
  },
  {
   "cell_type": "code",
   "execution_count": 60,
   "metadata": {},
   "outputs": [],
   "source": [
    "device = torch.device(\"cuda\" if torch.cuda.is_available() else \"cpu\")\n",
    "\n",
    "# Create the model and send it to the working device\n",
    "model = TransformerClassifier(num_layers=2, d_model=16, num_heads=2, conv_hidden_dim=16, input_vocab_size=max_num_tokens, num_answers=2)\n",
    "model.to(device)\n",
    "\n",
    "# Define the optimizer\n",
    "optimizer = torch.optim.AdamW(model.parameters(), lr=0.001, weight_decay=1e-3)\n",
    "epochs = 12\n",
    "\n",
    "# Define the criterion to be optimized\n",
    "criterion = nn.CrossEntropyLoss()"
   ]
  },
  {
   "cell_type": "code",
   "execution_count": 61,
   "metadata": {},
   "outputs": [],
   "source": [
    "# Evaluation function for validation and test sets\n",
    "def evaluate(data_loader):\n",
    "    n_samples = len(data_loader.dataset)\n",
    "    model.eval()\n",
    "    acc = torch.zeros([]) \n",
    "    with torch.no_grad():\n",
    "        for (label, text) in data_loader:\n",
    "            x = text.to(device)\n",
    "            y = label.to(device)\n",
    "                    \n",
    "            out = model(x)\n",
    "            acc += (out.argmax(dim=1) == y).cpu().numpy().sum()\n",
    "            torch.cuda.empty_cache()\n",
    "    print(f\"eval accuracy: {acc / n_samples}\")"
   ]
  },
  {
   "cell_type": "code",
   "execution_count": 62,
   "metadata": {},
   "outputs": [],
   "source": [
    "# Training function\n",
    "def train(train_loader, valid_loader):\n",
    "    for epoch in range(epochs):\n",
    "        nb_batches_train = len(train_loader)\n",
    "        train_acc = 0\n",
    "        model.train()\n",
    "        losses = 0.0\n",
    "\n",
    "        for (label, text) in train_loader:\n",
    "            optimizer.zero_grad()\n",
    "\n",
    "            x = text.to(device)\n",
    "            y = label.to(device)\n",
    "            out = model(x)\n",
    "\n",
    "            loss = criterion(out, y)\n",
    "            loss.backward()\n",
    "            losses += loss.item()\n",
    "\n",
    "            optimizer.step()\n",
    "                        \n",
    "            train_acc += (out.argmax(dim=1) == y).cpu().numpy().mean()\n",
    "            torch.cuda.empty_cache()\n",
    "        print(f\"epoch {epoch}: train loss: {losses / nb_batches_train}\")\n",
    "        print(f\"training accuracy: {train_acc / nb_batches_train}\")\n",
    "        print('evaluating on validation:')\n",
    "        evaluate(valid_loader)"
   ]
  },
  {
   "cell_type": "code",
   "execution_count": 63,
   "metadata": {},
   "outputs": [
    {
     "name": "stdout",
     "output_type": "stream",
     "text": [
      "epoch 0: train loss: 0.6913201649955462\n",
      "training accuracy: 0.5209370554765291\n",
      "evaluating on validation:\n",
      "eval accuracy: 0.5091999769210815\n",
      "epoch 1: train loss: 0.6278638349233956\n",
      "training accuracy: 0.6523826458036984\n",
      "evaluating on validation:\n",
      "eval accuracy: 0.7396000027656555\n",
      "epoch 2: train loss: 0.5402434040735321\n",
      "training accuracy: 0.7290629445234709\n",
      "evaluating on validation:\n",
      "eval accuracy: 0.7396000027656555\n",
      "epoch 3: train loss: 0.48464083741518377\n",
      "training accuracy: 0.7644025604551921\n",
      "evaluating on validation:\n",
      "eval accuracy: 0.7423999905586243\n",
      "epoch 4: train loss: 0.43839319191798887\n",
      "training accuracy: 0.7996532716927454\n",
      "evaluating on validation:\n",
      "eval accuracy: 0.758400022983551\n",
      "epoch 5: train loss: 0.4030212460305664\n",
      "training accuracy: 0.8174342105263158\n",
      "evaluating on validation:\n",
      "eval accuracy: 0.7964000105857849\n",
      "epoch 6: train loss: 0.3706907597801\n",
      "training accuracy: 0.8394381223328592\n",
      "evaluating on validation:\n",
      "eval accuracy: 0.8059999942779541\n",
      "epoch 7: train loss: 0.340139282888509\n",
      "training accuracy: 0.8592194167852063\n",
      "evaluating on validation:\n",
      "eval accuracy: 0.8199999928474426\n",
      "epoch 8: train loss: 0.31657457929554994\n",
      "training accuracy: 0.8680654338549075\n",
      "evaluating on validation:\n",
      "eval accuracy: 0.8496000170707703\n",
      "epoch 9: train loss: 0.2909035105284722\n",
      "training accuracy: 0.8803342816500711\n",
      "evaluating on validation:\n",
      "eval accuracy: 0.8435999751091003\n",
      "epoch 10: train loss: 0.2668832896799273\n",
      "training accuracy: 0.8941145092460882\n",
      "evaluating on validation:\n",
      "eval accuracy: 0.8496000170707703\n",
      "epoch 11: train loss: 0.2440671983730064\n",
      "training accuracy: 0.9016714082503556\n",
      "evaluating on validation:\n",
      "eval accuracy: 0.8407999873161316\n"
     ]
    }
   ],
   "source": [
    "train(train_dataloader, validation_dataloader)"
   ]
  },
  {
   "cell_type": "code",
   "execution_count": 64,
   "metadata": {},
   "outputs": [
    {
     "name": "stdout",
     "output_type": "stream",
     "text": [
      "eval accuracy: 0.8142399787902832\n"
     ]
    }
   ],
   "source": [
    "evaluate(test_dataloader)"
   ]
  },
  {
   "cell_type": "code",
   "execution_count": null,
   "metadata": {},
   "outputs": [],
   "source": []
  }
 ],
 "metadata": {
  "kernelspec": {
   "display_name": "Python 3",
   "language": "python",
   "name": "python3"
  },
  "language_info": {
   "codemirror_mode": {
    "name": "ipython",
    "version": 3
   },
   "file_extension": ".py",
   "mimetype": "text/x-python",
   "name": "python",
   "nbconvert_exporter": "python",
   "pygments_lexer": "ipython3",
   "version": "3.11.7"
  }
 },
 "nbformat": 4,
 "nbformat_minor": 2
}
